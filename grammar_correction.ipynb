{
  "cells": [
    {
      "cell_type": "code",
      "execution_count": 18,
      "metadata": {
        "id": "ddNQvDXx_esb"
      },
      "outputs": [],
      "source": [
        "import csv\n",
        "import os\n",
        "import random\n",
        "from itertools import chain\n",
        "from string import punctuation\n",
        "\n",
        "import datasets\n",
        "import nltk\n",
        "import numpy as np\n",
        "import pandas as pd\n",
        "import torch\n",
        "import time\n",
        "from datasets import Dataset as dDataset\n",
        "from datasets import load_metric\n",
        "from sklearn.model_selection import train_test_split\n",
        "from torch.utils.data import Dataset\n",
        "import pickle as pkl\n",
        "from tqdm import tqdm\n",
        "from icecream import ic\n",
        "from transformers import (DataCollatorForSeq2Seq, Seq2SeqTrainer,\n",
        "                          Seq2SeqTrainingArguments, T5ForConditionalGeneration,\n",
        "                          T5Tokenizer, BertTokenizer, BertModel)\n",
        "from jiwer import wer\n",
        "from nltk.translate.bleu_score import corpus_bleu\n",
        "from rouge_score import rouge_scorer"
      ]
    },
    {
      "cell_type": "code",
      "execution_count": 2,
      "metadata": {
        "colab": {
          "base_uri": "https://localhost:8080/"
        },
        "id": "nrq-mZsINIxr",
        "outputId": "be8fa2a9-795b-43a0-9d9e-f992b251f42b"
      },
      "outputs": [
        {
          "name": "stdout",
          "output_type": "stream",
          "text": [
            "cuda\n"
          ]
        }
      ],
      "source": [
        "device = torch.device(\"cuda\" if torch.cuda.is_available() else \"cpu\")\n",
        "print(device)\n",
        "model_name = 't5-base'\n",
        "\n",
        "os.environ[\"WANDB_DISABLED\"] = \"true\"\n",
        "pd.set_option('display.max_colwidth', None)"
      ]
    },
    {
      "cell_type": "code",
      "execution_count": 3,
      "metadata": {
        "id": "C5xGuOAdO4s-"
      },
      "outputs": [],
      "source": [
        "import os\n",
        "import pandas as pd\n",
        "from tqdm import tqdm\n",
        "\n",
        "if not os.path.exists(\"dataframePandasGrammar.csv\"):\n",
        "    # Load data from the CSV file\n",
        "    df = pd.read_csv('C4_200M_1M.csv', header=None)\n",
        "\n",
        "    # Limit the data to the first 1,000,000 rows\n",
        "    df = df.iloc[:100000]\n",
        "\n",
        "    # Rename columns if necessary\n",
        "    df.columns = [\"input\", \"output\"]\n",
        "\n",
        "    # Drop rows with any missing values\n",
        "    df.dropna(inplace=True)\n",
        "\n",
        "    # Save the DataFrame to a CSV file\n",
        "    df.to_csv(\"dataframePandasGrammar.csv\", index=False)\n",
        "else:\n",
        "    # Load the DataFrame from the CSV file\n",
        "    df = pd.read_csv(\"dataframePandasGrammar.csv\")\n"
      ]
    },
    {
      "cell_type": "code",
      "execution_count": 4,
      "metadata": {
        "colab": {
          "base_uri": "https://localhost:8080/"
        },
        "id": "HPjuDH8vP69f",
        "outputId": "49edad96-6d7d-4341-ab24-b13457de1bd6"
      },
      "outputs": [
        {
          "name": "stderr",
          "output_type": "stream",
          "text": [
            "You are using the default legacy behaviour of the <class 'transformers.models.t5.tokenization_t5.T5Tokenizer'>. This is expected, and simply means that the `legacy` (previous) behavior will be used so nothing changes for you. If you want to use the new behaviour, set `legacy=False`. This should only be set if you understand what it means, and thoroughly read the reason why this was added as explained in https://github.com/huggingface/transformers/pull/24565\n",
            "Special tokens have been added in the vocabulary, make sure the associated word embeddings are fine-tuned or trained.\n"
          ]
        },
        {
          "data": {
            "text/plain": [
              "T5ForConditionalGeneration(\n",
              "  (shared): Embedding(32128, 768)\n",
              "  (encoder): T5Stack(\n",
              "    (embed_tokens): Embedding(32128, 768)\n",
              "    (block): ModuleList(\n",
              "      (0): T5Block(\n",
              "        (layer): ModuleList(\n",
              "          (0): T5LayerSelfAttention(\n",
              "            (SelfAttention): T5Attention(\n",
              "              (q): Linear(in_features=768, out_features=768, bias=False)\n",
              "              (k): Linear(in_features=768, out_features=768, bias=False)\n",
              "              (v): Linear(in_features=768, out_features=768, bias=False)\n",
              "              (o): Linear(in_features=768, out_features=768, bias=False)\n",
              "              (relative_attention_bias): Embedding(32, 12)\n",
              "            )\n",
              "            (layer_norm): T5LayerNorm()\n",
              "            (dropout): Dropout(p=0.1, inplace=False)\n",
              "          )\n",
              "          (1): T5LayerFF(\n",
              "            (DenseReluDense): T5DenseActDense(\n",
              "              (wi): Linear(in_features=768, out_features=3072, bias=False)\n",
              "              (wo): Linear(in_features=3072, out_features=768, bias=False)\n",
              "              (dropout): Dropout(p=0.1, inplace=False)\n",
              "              (act): ReLU()\n",
              "            )\n",
              "            (layer_norm): T5LayerNorm()\n",
              "            (dropout): Dropout(p=0.1, inplace=False)\n",
              "          )\n",
              "        )\n",
              "      )\n",
              "      (1-11): 11 x T5Block(\n",
              "        (layer): ModuleList(\n",
              "          (0): T5LayerSelfAttention(\n",
              "            (SelfAttention): T5Attention(\n",
              "              (q): Linear(in_features=768, out_features=768, bias=False)\n",
              "              (k): Linear(in_features=768, out_features=768, bias=False)\n",
              "              (v): Linear(in_features=768, out_features=768, bias=False)\n",
              "              (o): Linear(in_features=768, out_features=768, bias=False)\n",
              "            )\n",
              "            (layer_norm): T5LayerNorm()\n",
              "            (dropout): Dropout(p=0.1, inplace=False)\n",
              "          )\n",
              "          (1): T5LayerFF(\n",
              "            (DenseReluDense): T5DenseActDense(\n",
              "              (wi): Linear(in_features=768, out_features=3072, bias=False)\n",
              "              (wo): Linear(in_features=3072, out_features=768, bias=False)\n",
              "              (dropout): Dropout(p=0.1, inplace=False)\n",
              "              (act): ReLU()\n",
              "            )\n",
              "            (layer_norm): T5LayerNorm()\n",
              "            (dropout): Dropout(p=0.1, inplace=False)\n",
              "          )\n",
              "        )\n",
              "      )\n",
              "    )\n",
              "    (final_layer_norm): T5LayerNorm()\n",
              "    (dropout): Dropout(p=0.1, inplace=False)\n",
              "  )\n",
              "  (decoder): T5Stack(\n",
              "    (embed_tokens): Embedding(32128, 768)\n",
              "    (block): ModuleList(\n",
              "      (0): T5Block(\n",
              "        (layer): ModuleList(\n",
              "          (0): T5LayerSelfAttention(\n",
              "            (SelfAttention): T5Attention(\n",
              "              (q): Linear(in_features=768, out_features=768, bias=False)\n",
              "              (k): Linear(in_features=768, out_features=768, bias=False)\n",
              "              (v): Linear(in_features=768, out_features=768, bias=False)\n",
              "              (o): Linear(in_features=768, out_features=768, bias=False)\n",
              "              (relative_attention_bias): Embedding(32, 12)\n",
              "            )\n",
              "            (layer_norm): T5LayerNorm()\n",
              "            (dropout): Dropout(p=0.1, inplace=False)\n",
              "          )\n",
              "          (1): T5LayerCrossAttention(\n",
              "            (EncDecAttention): T5Attention(\n",
              "              (q): Linear(in_features=768, out_features=768, bias=False)\n",
              "              (k): Linear(in_features=768, out_features=768, bias=False)\n",
              "              (v): Linear(in_features=768, out_features=768, bias=False)\n",
              "              (o): Linear(in_features=768, out_features=768, bias=False)\n",
              "            )\n",
              "            (layer_norm): T5LayerNorm()\n",
              "            (dropout): Dropout(p=0.1, inplace=False)\n",
              "          )\n",
              "          (2): T5LayerFF(\n",
              "            (DenseReluDense): T5DenseActDense(\n",
              "              (wi): Linear(in_features=768, out_features=3072, bias=False)\n",
              "              (wo): Linear(in_features=3072, out_features=768, bias=False)\n",
              "              (dropout): Dropout(p=0.1, inplace=False)\n",
              "              (act): ReLU()\n",
              "            )\n",
              "            (layer_norm): T5LayerNorm()\n",
              "            (dropout): Dropout(p=0.1, inplace=False)\n",
              "          )\n",
              "        )\n",
              "      )\n",
              "      (1-11): 11 x T5Block(\n",
              "        (layer): ModuleList(\n",
              "          (0): T5LayerSelfAttention(\n",
              "            (SelfAttention): T5Attention(\n",
              "              (q): Linear(in_features=768, out_features=768, bias=False)\n",
              "              (k): Linear(in_features=768, out_features=768, bias=False)\n",
              "              (v): Linear(in_features=768, out_features=768, bias=False)\n",
              "              (o): Linear(in_features=768, out_features=768, bias=False)\n",
              "            )\n",
              "            (layer_norm): T5LayerNorm()\n",
              "            (dropout): Dropout(p=0.1, inplace=False)\n",
              "          )\n",
              "          (1): T5LayerCrossAttention(\n",
              "            (EncDecAttention): T5Attention(\n",
              "              (q): Linear(in_features=768, out_features=768, bias=False)\n",
              "              (k): Linear(in_features=768, out_features=768, bias=False)\n",
              "              (v): Linear(in_features=768, out_features=768, bias=False)\n",
              "              (o): Linear(in_features=768, out_features=768, bias=False)\n",
              "            )\n",
              "            (layer_norm): T5LayerNorm()\n",
              "            (dropout): Dropout(p=0.1, inplace=False)\n",
              "          )\n",
              "          (2): T5LayerFF(\n",
              "            (DenseReluDense): T5DenseActDense(\n",
              "              (wi): Linear(in_features=768, out_features=3072, bias=False)\n",
              "              (wo): Linear(in_features=3072, out_features=768, bias=False)\n",
              "              (dropout): Dropout(p=0.1, inplace=False)\n",
              "              (act): ReLU()\n",
              "            )\n",
              "            (layer_norm): T5LayerNorm()\n",
              "            (dropout): Dropout(p=0.1, inplace=False)\n",
              "          )\n",
              "        )\n",
              "      )\n",
              "    )\n",
              "    (final_layer_norm): T5LayerNorm()\n",
              "    (dropout): Dropout(p=0.1, inplace=False)\n",
              "  )\n",
              "  (lm_head): Linear(in_features=768, out_features=32128, bias=False)\n",
              ")"
            ]
          },
          "execution_count": 4,
          "metadata": {},
          "output_type": "execute_result"
        }
      ],
      "source": [
        "tokenizer = T5Tokenizer.from_pretrained(model_name)\n",
        "model = T5ForConditionalGeneration.from_pretrained(model_name)\n",
        "model.to(device)"
      ]
    },
    {
      "cell_type": "code",
      "execution_count": 5,
      "metadata": {
        "id": "WzHiuZ1sP7xz"
      },
      "outputs": [],
      "source": [
        "def calc_token_len(example):\n",
        "    return len(tokenizer(example).input_ids)"
      ]
    },
    {
      "cell_type": "code",
      "execution_count": 6,
      "metadata": {
        "colab": {
          "base_uri": "https://localhost:8080/"
        },
        "id": "FJ_DbY-2P-Om",
        "outputId": "82a7b823-8b87-4b03-c8ac-bb8cac2a5497"
      },
      "outputs": [
        {
          "name": "stderr",
          "output_type": "stream",
          "text": [
            "ic| train_df.shape: (64000, 2)\n",
            "    val_df.shape: (20000, 2)\n",
            "    test_df.shape: (16000, 2)\n"
          ]
        },
        {
          "data": {
            "text/plain": [
              "((64000, 2), (20000, 2), (16000, 2))"
            ]
          },
          "execution_count": 6,
          "metadata": {},
          "output_type": "execute_result"
        }
      ],
      "source": [
        "train_df, val_df = train_test_split(df, test_size=0.20, shuffle=True)\n",
        "train_df, test_df = train_test_split(train_df, test_size=0.20, shuffle=True)\n",
        "ic(train_df.shape, val_df.shape, test_df.shape)"
      ]
    },
    {
      "cell_type": "code",
      "execution_count": 7,
      "metadata": {
        "id": "G5N2FDfEQDjh"
      },
      "outputs": [],
      "source": [
        "val_df['input_token_len'] = val_df['input'].apply(calc_token_len)"
      ]
    },
    {
      "cell_type": "code",
      "execution_count": 8,
      "metadata": {
        "id": "M6EhVUYFQHrL"
      },
      "outputs": [],
      "source": [
        "train_dataset = dDataset.from_pandas(train_df)\n",
        "test_dataset = dDataset.from_pandas(val_df)"
      ]
    },
    {
      "cell_type": "code",
      "execution_count": 9,
      "metadata": {
        "id": "rtlCNVmzQMs3"
      },
      "outputs": [],
      "source": [
        "class LangDataset(Dataset):\n",
        "    def __init__(self, dataset, tokenizer, print_text=False):\n",
        "        self.dataset = dataset\n",
        "        self.maxPad = False\n",
        "        self.tokenizer = tokenizer\n",
        "        self.max_len = 64\n",
        "\n",
        "    def __len__(self):\n",
        "        return len(self.dataset)\n",
        "\n",
        "    def tokenize_data(self, example):\n",
        "        input_, target_ = example['input'], example['output']\n",
        "\n",
        "        # tokenize inputs\n",
        "        tokenized_inputs = tokenizer(input_, pad_to_max_length=self.maxPad,\n",
        "                                     max_length=self.max_len,\n",
        "                                     return_attention_mask=True)\n",
        "\n",
        "        tokenized_targets = tokenizer(target_, pad_to_max_length=self.maxPad,\n",
        "                                      max_length=self.max_len,\n",
        "                                      return_attention_mask=True)\n",
        "\n",
        "        inputs = {\"input_ids\": tokenized_inputs['input_ids'],\n",
        "                  \"attention_mask\": tokenized_inputs['attention_mask'],\n",
        "                  \"labels\": tokenized_targets['input_ids']\n",
        "                  }\n",
        "\n",
        "        return inputs\n",
        "\n",
        "    def __getitem__(self, index):\n",
        "        inputs = self.tokenize_data(self.dataset[index])\n",
        "\n",
        "        return inputs\n",
        "\n",
        "dataset = LangDataset(test_dataset, tokenizer, True)\n"
      ]
    },
    {
      "cell_type": "code",
      "execution_count": 10,
      "metadata": {
        "colab": {
          "base_uri": "https://localhost:8080/"
        },
        "id": "F723bLQ3QUH0",
        "outputId": "a36ef3ef-27bf-4aa8-fb5c-bd60b9b69ce5"
      },
      "outputs": [
        {
          "name": "stderr",
          "output_type": "stream",
          "text": [
            "/tmp/ipykernel_25408/3047241671.py:1: FutureWarning: load_metric is deprecated and will be removed in the next major version of datasets. Use 'evaluate.load' instead, from the new library 🤗 Evaluate: https://huggingface.co/docs/evaluate\n",
            "  rouge_metric = load_metric(\"rouge\")\n"
          ]
        },
        {
          "name": "stderr",
          "output_type": "stream",
          "text": [
            "/home2/autotune_vits/miniconda3/envs/nlp_env/lib/python3.12/site-packages/datasets/load.py:756: FutureWarning: The repository for rouge contains custom code which must be executed to correctly load the metric. You can inspect the repository content at https://raw.githubusercontent.com/huggingface/datasets/2.18.0/metrics/rouge/rouge.py\n",
            "You can avoid this message in future by passing the argument `trust_remote_code=True`.\n",
            "Passing `trust_remote_code=True` will be mandatory to load this metric from the next major release of `datasets`.\n",
            "  warnings.warn(\n"
          ]
        }
      ],
      "source": [
        "rouge_metric = load_metric(\"rouge\")"
      ]
    },
    {
      "cell_type": "code",
      "execution_count": 11,
      "metadata": {
        "colab": {
          "base_uri": "https://localhost:8080/"
        },
        "id": "rbQEwYHCQdz7",
        "outputId": "84f41b61-f74d-4adf-bed8-d9130286ca85"
      },
      "outputs": [
        {
          "name": "stderr",
          "output_type": "stream",
          "text": [
            "Using the `WANDB_DISABLED` environment variable is deprecated and will be removed in v5. Use the --report_to flag to control the integrations used for logging result (for instance --report_to none).\n"
          ]
        }
      ],
      "source": [
        "data_collator = DataCollatorForSeq2Seq(\n",
        "    tokenizer, model=model, padding='longest', return_tensors='pt')\n",
        "\n",
        "\n",
        "# defining training related arguments\n",
        "batch_size = 10\n",
        "args = Seq2SeqTrainingArguments(output_dir=\"./weights\",\n",
        "                                evaluation_strategy=\"steps\",\n",
        "                                per_device_train_batch_size=batch_size,\n",
        "                                per_device_eval_batch_size=batch_size,\n",
        "                                learning_rate=2e-5,\n",
        "                                num_train_epochs=2,\n",
        "                                weight_decay=0.01,\n",
        "                                save_total_limit=10,\n",
        "                                predict_with_generate=True,\n",
        "                                fp16=True,\n",
        "                                gradient_accumulation_steps=5,\n",
        "                                eval_steps=9000,\n",
        "                                save_steps=2000\n",
        "                                )"
      ]
    },
    {
      "cell_type": "code",
      "execution_count": 12,
      "metadata": {
        "id": "pvvwtvctQiID"
      },
      "outputs": [],
      "source": [
        "def compute_metrics(eval_pred):\n",
        "    predictions, labels = eval_pred\n",
        "    decoded_preds = tokenizer.batch_decode(\n",
        "        predictions, skip_special_tokens=True)\n",
        "\n",
        "    labels = np.where(labels != -100, labels, tokenizer.pad_token_id)\n",
        "    decoded_labels = tokenizer.batch_decode(labels, skip_special_tokens=True)\n",
        "\n",
        "    # Rouge expects a newline after each sentence\n",
        "    decoded_preds = [\"\\n\".join(nltk.sent_tokenize(pred.strip()))\n",
        "                     for pred in decoded_preds]\n",
        "    decoded_labels = [\"\\n\".join(nltk.sent_tokenize(label.strip()))\n",
        "                      for label in decoded_labels]\n",
        "\n",
        "    result = rouge_metric.compute(\n",
        "        predictions=decoded_preds, references=decoded_labels, use_stemmer=True)\n",
        "\n",
        "    result = {key: value.mid.fmeasure * 100 for key, value in result.items()}\n",
        "\n",
        "    prediction_lens = [np.count_nonzero(\n",
        "        pred != tokenizer.pad_token_id) for pred in predictions]\n",
        "    result[\"gen_len\"] = np.mean(prediction_lens)\n",
        "    return {k: round(v, 4) for k, v in result.items()}"
      ]
    },
    {
      "cell_type": "code",
      "execution_count": 13,
      "metadata": {
        "colab": {
          "base_uri": "https://localhost:8080/",
          "height": 114
        },
        "id": "Xpr1oBwsQolE",
        "outputId": "3e3a3d83-2109-496b-ff01-560b4f944484"
      },
      "outputs": [
        {
          "name": "stderr",
          "output_type": "stream",
          "text": [
            "Detected kernel version 4.15.0, which is below the recommended minimum of 5.5.0; this can cause the process to hang. It is recommended to upgrade the kernel to the minimum version or higher.\n",
            "Truncation was not explicitly activated but `max_length` is provided a specific value, please use `truncation=True` to explicitly truncate examples to max length. Defaulting to 'longest_first' truncation strategy. If you encode pairs of sequences (GLUE-style) with the tokenizer you can select this strategy more precisely by providing a specific strategy to `truncation`.\n"
          ]
        },
        {
          "data": {
            "text/html": [
              "\n",
              "    <div>\n",
              "      \n",
              "      <progress value='2560' max='2560' style='width:300px; height:20px; vertical-align: middle;'></progress>\n",
              "      [2560/2560 32:44, Epoch 2/2]\n",
              "    </div>\n",
              "    <table border=\"1\" class=\"dataframe\">\n",
              "  <thead>\n",
              " <tr style=\"text-align: left;\">\n",
              "      <th>Step</th>\n",
              "      <th>Training Loss</th>\n",
              "      <th>Validation Loss</th>\n",
              "    </tr>\n",
              "  </thead>\n",
              "  <tbody>\n",
              "  </tbody>\n",
              "</table><p>"
            ],
            "text/plain": [
              "<IPython.core.display.HTML object>"
            ]
          },
          "metadata": {},
          "output_type": "display_data"
        },
        {
          "name": "stdout",
          "output_type": "stream",
          "text": [
            "Loading model\n"
          ]
        },
        {
          "data": {
            "text/plain": [
              "T5ForConditionalGeneration(\n",
              "  (shared): Embedding(32128, 768)\n",
              "  (encoder): T5Stack(\n",
              "    (embed_tokens): Embedding(32128, 768)\n",
              "    (block): ModuleList(\n",
              "      (0): T5Block(\n",
              "        (layer): ModuleList(\n",
              "          (0): T5LayerSelfAttention(\n",
              "            (SelfAttention): T5Attention(\n",
              "              (q): Linear(in_features=768, out_features=768, bias=False)\n",
              "              (k): Linear(in_features=768, out_features=768, bias=False)\n",
              "              (v): Linear(in_features=768, out_features=768, bias=False)\n",
              "              (o): Linear(in_features=768, out_features=768, bias=False)\n",
              "              (relative_attention_bias): Embedding(32, 12)\n",
              "            )\n",
              "            (layer_norm): T5LayerNorm()\n",
              "            (dropout): Dropout(p=0.1, inplace=False)\n",
              "          )\n",
              "          (1): T5LayerFF(\n",
              "            (DenseReluDense): T5DenseActDense(\n",
              "              (wi): Linear(in_features=768, out_features=3072, bias=False)\n",
              "              (wo): Linear(in_features=3072, out_features=768, bias=False)\n",
              "              (dropout): Dropout(p=0.1, inplace=False)\n",
              "              (act): ReLU()\n",
              "            )\n",
              "            (layer_norm): T5LayerNorm()\n",
              "            (dropout): Dropout(p=0.1, inplace=False)\n",
              "          )\n",
              "        )\n",
              "      )\n",
              "      (1-11): 11 x T5Block(\n",
              "        (layer): ModuleList(\n",
              "          (0): T5LayerSelfAttention(\n",
              "            (SelfAttention): T5Attention(\n",
              "              (q): Linear(in_features=768, out_features=768, bias=False)\n",
              "              (k): Linear(in_features=768, out_features=768, bias=False)\n",
              "              (v): Linear(in_features=768, out_features=768, bias=False)\n",
              "              (o): Linear(in_features=768, out_features=768, bias=False)\n",
              "            )\n",
              "            (layer_norm): T5LayerNorm()\n",
              "            (dropout): Dropout(p=0.1, inplace=False)\n",
              "          )\n",
              "          (1): T5LayerFF(\n",
              "            (DenseReluDense): T5DenseActDense(\n",
              "              (wi): Linear(in_features=768, out_features=3072, bias=False)\n",
              "              (wo): Linear(in_features=3072, out_features=768, bias=False)\n",
              "              (dropout): Dropout(p=0.1, inplace=False)\n",
              "              (act): ReLU()\n",
              "            )\n",
              "            (layer_norm): T5LayerNorm()\n",
              "            (dropout): Dropout(p=0.1, inplace=False)\n",
              "          )\n",
              "        )\n",
              "      )\n",
              "    )\n",
              "    (final_layer_norm): T5LayerNorm()\n",
              "    (dropout): Dropout(p=0.1, inplace=False)\n",
              "  )\n",
              "  (decoder): T5Stack(\n",
              "    (embed_tokens): Embedding(32128, 768)\n",
              "    (block): ModuleList(\n",
              "      (0): T5Block(\n",
              "        (layer): ModuleList(\n",
              "          (0): T5LayerSelfAttention(\n",
              "            (SelfAttention): T5Attention(\n",
              "              (q): Linear(in_features=768, out_features=768, bias=False)\n",
              "              (k): Linear(in_features=768, out_features=768, bias=False)\n",
              "              (v): Linear(in_features=768, out_features=768, bias=False)\n",
              "              (o): Linear(in_features=768, out_features=768, bias=False)\n",
              "              (relative_attention_bias): Embedding(32, 12)\n",
              "            )\n",
              "            (layer_norm): T5LayerNorm()\n",
              "            (dropout): Dropout(p=0.1, inplace=False)\n",
              "          )\n",
              "          (1): T5LayerCrossAttention(\n",
              "            (EncDecAttention): T5Attention(\n",
              "              (q): Linear(in_features=768, out_features=768, bias=False)\n",
              "              (k): Linear(in_features=768, out_features=768, bias=False)\n",
              "              (v): Linear(in_features=768, out_features=768, bias=False)\n",
              "              (o): Linear(in_features=768, out_features=768, bias=False)\n",
              "            )\n",
              "            (layer_norm): T5LayerNorm()\n",
              "            (dropout): Dropout(p=0.1, inplace=False)\n",
              "          )\n",
              "          (2): T5LayerFF(\n",
              "            (DenseReluDense): T5DenseActDense(\n",
              "              (wi): Linear(in_features=768, out_features=3072, bias=False)\n",
              "              (wo): Linear(in_features=3072, out_features=768, bias=False)\n",
              "              (dropout): Dropout(p=0.1, inplace=False)\n",
              "              (act): ReLU()\n",
              "            )\n",
              "            (layer_norm): T5LayerNorm()\n",
              "            (dropout): Dropout(p=0.1, inplace=False)\n",
              "          )\n",
              "        )\n",
              "      )\n",
              "      (1-11): 11 x T5Block(\n",
              "        (layer): ModuleList(\n",
              "          (0): T5LayerSelfAttention(\n",
              "            (SelfAttention): T5Attention(\n",
              "              (q): Linear(in_features=768, out_features=768, bias=False)\n",
              "              (k): Linear(in_features=768, out_features=768, bias=False)\n",
              "              (v): Linear(in_features=768, out_features=768, bias=False)\n",
              "              (o): Linear(in_features=768, out_features=768, bias=False)\n",
              "            )\n",
              "            (layer_norm): T5LayerNorm()\n",
              "            (dropout): Dropout(p=0.1, inplace=False)\n",
              "          )\n",
              "          (1): T5LayerCrossAttention(\n",
              "            (EncDecAttention): T5Attention(\n",
              "              (q): Linear(in_features=768, out_features=768, bias=False)\n",
              "              (k): Linear(in_features=768, out_features=768, bias=False)\n",
              "              (v): Linear(in_features=768, out_features=768, bias=False)\n",
              "              (o): Linear(in_features=768, out_features=768, bias=False)\n",
              "            )\n",
              "            (layer_norm): T5LayerNorm()\n",
              "            (dropout): Dropout(p=0.1, inplace=False)\n",
              "          )\n",
              "          (2): T5LayerFF(\n",
              "            (DenseReluDense): T5DenseActDense(\n",
              "              (wi): Linear(in_features=768, out_features=3072, bias=False)\n",
              "              (wo): Linear(in_features=3072, out_features=768, bias=False)\n",
              "              (dropout): Dropout(p=0.1, inplace=False)\n",
              "              (act): ReLU()\n",
              "            )\n",
              "            (layer_norm): T5LayerNorm()\n",
              "            (dropout): Dropout(p=0.1, inplace=False)\n",
              "          )\n",
              "        )\n",
              "      )\n",
              "    )\n",
              "    (final_layer_norm): T5LayerNorm()\n",
              "    (dropout): Dropout(p=0.1, inplace=False)\n",
              "  )\n",
              "  (lm_head): Linear(in_features=768, out_features=32128, bias=False)\n",
              ")"
            ]
          },
          "execution_count": 13,
          "metadata": {},
          "output_type": "execute_result"
        }
      ],
      "source": [
        "trainer = Seq2SeqTrainer(model=model,\n",
        "                         args=args,\n",
        "                         train_dataset=LangDataset(\n",
        "                             train_dataset, tokenizer),\n",
        "                         eval_dataset=LangDataset(test_dataset, tokenizer),\n",
        "                         tokenizer=tokenizer,\n",
        "                         data_collator=data_collator,\n",
        "                         compute_metrics=compute_metrics)\n",
        "\n",
        "if not os.path.exists('t5'):\n",
        "    trainer.train()\n",
        "    trainer.save_model('t5')\n",
        "\n",
        "print('Loading model')\n",
        "model = T5ForConditionalGeneration.from_pretrained('./t5/')\n",
        "model.to(device)"
      ]
    },
    {
      "cell_type": "code",
      "execution_count": 14,
      "metadata": {
        "id": "EBO8appzQv0V"
      },
      "outputs": [],
      "source": [
        "\n",
        "def correct_grammar(input_text, num_return_sequences):\n",
        "    batch = tokenizer([input_text], truncation=True, padding='max_length',\n",
        "                      max_length=64, return_tensors=\"pt\")\n",
        "    batch = batch.to(device)\n",
        "    translated = model.generate(**batch, max_length=64, num_beams=4,\n",
        "                                num_return_sequences=num_return_sequences, temperature=1.5)\n",
        "    tgt_text = tokenizer.batch_decode(translated, skip_special_tokens=True)\n",
        "    return tgt_text\n"
      ]
    },
    {
      "cell_type": "markdown",
      "metadata": {},
      "source": [
        "## Testing"
      ]
    },
    {
      "cell_type": "code",
      "execution_count": 20,
      "metadata": {
        "id": "p6dcjTo0QxKL"
      },
      "outputs": [
        {
          "name": "stderr",
          "output_type": "stream",
          "text": [
            "Calculating Stats:   0%|          | 0/1000 [00:00<?, ?it/s]"
          ]
        },
        {
          "name": "stderr",
          "output_type": "stream",
          "text": [
            "Calculating Stats: 100%|██████████| 1000/1000 [00:01<00:00, 672.94it/s]\n"
          ]
        },
        {
          "name": "stdout",
          "output_type": "stream",
          "text": [
            "WER:  0.25430218068180593\n",
            "Fake WER:  0.2726298614615928\n",
            "Percent change: -6.722550743902578%\n",
            "Avg ROUGE:  {'rouge1': 0.8747341358004327, 'rouge2': 0.763919816176895, 'rougeL': 0.8673250689402646}\n",
            "Avg Fake ROUGE:  {'rouge1': 0.8712120802953993, 'rouge2': 0.7395022535201441, 'rougeL': 0.8632321464185431}\n",
            "Percent change ROUGE: {'rouge1': 0.4042707378253019, 'rouge2': 3.301891581874097, 'rougeL': 0.4741392612291661}\n"
          ]
        },
        {
          "ename": "",
          "evalue": "",
          "output_type": "error",
          "traceback": [
            "\u001b[1;31mThe Kernel crashed while executing code in the current cell or a previous cell. \n",
            "\u001b[1;31mPlease review the code in the cell(s) to identify a possible cause of the failure. \n",
            "\u001b[1;31mClick <a href='https://aka.ms/vscodeJupyterKernelCrash'>here</a> for more info. \n",
            "\u001b[1;31mView Jupyter <a href='command:jupyter.viewOutput'>log</a> for further details."
          ]
        }
      ],
      "source": [
        "if not os.path.exists('./grammarOutput.csv'):\n",
        "    test_df = test_df[:1000]\n",
        "    grammarOutputFile = open('./grammarOutput.csv', 'w')\n",
        "    grammarOutputWriter = csv.DictWriter(\n",
        "        grammarOutputFile, fieldnames=['input', 'output', 'truth'])\n",
        "    grammarOutputWriter.writeheader()\n",
        "\n",
        "    for index, row in tqdm(test_df.iterrows(), total=len(test_df), desc=\"Testing\"):\n",
        "        inp = row['input']\n",
        "        prediction = correct_grammar(inp, num_return_sequences=1)[0]\n",
        "        grammarOutputWriter.writerow(\n",
        "            {'input': inp, 'output': prediction, 'truth': row['output']})\n",
        "        # truth = row['output']\n",
        "        # total_wer += wer(truth, prediction)\n",
        "        # total_fake_wer += wer(truth, inp)\n",
        "\n",
        "    grammarOutputFile.close()\n",
        "# print('WER: ', total_wer/len(test_df))\n",
        "# print('Fake WER: ', total_fake_wer/len(test_df))\n",
        "\n",
        "scorer = rouge_scorer.RougeScorer(\n",
        "    ['rouge1', 'rouge2', 'rougeL'], use_stemmer=True)\n",
        "total_rouge_scores = {\"rouge1\": 0, \"rouge2\": 0, \"rougeL\": 0}\n",
        "total_rouge_scoresFake = {\"rouge1\": 0, \"rouge2\": 0, \"rougeL\": 0}\n",
        "grammarFile = open('./grammarOutput.csv', 'r')\n",
        "grammarReader = csv.DictReader(grammarFile)\n",
        "total_wer = 0\n",
        "total_fake_wer = 0\n",
        "correct = []\n",
        "predicted = []\n",
        "Inps = []\n",
        "data = list(grammarReader)\n",
        "for row in tqdm(data, desc=\"Calculating Stats\"):\n",
        "    truth = row['truth']\n",
        "    prediction = row['output']\n",
        "    inp = row['input']\n",
        "\n",
        "    correct.append(truth)\n",
        "    predicted.append(prediction)\n",
        "    Inps.append(inp)\n",
        "\n",
        "    rougeScore = scorer.score(truth, prediction)\n",
        "    fakeRougeScore = scorer.score(truth, inp)\n",
        "\n",
        "    for key in rougeScore:\n",
        "        total_rouge_scores[key] += rougeScore[key].fmeasure\n",
        "        total_rouge_scoresFake[key] += fakeRougeScore[key].fmeasure\n",
        "\n",
        "    total_wer += wer(truth, prediction)\n",
        "    total_fake_wer += wer(truth, inp)\n",
        "\n",
        "\n",
        "print('WER: ', total_wer/len(data))\n",
        "print('Fake WER: ', total_fake_wer/len(data))\n",
        "percentChange = (total_wer-total_fake_wer)/total_fake_wer\n",
        "print(f\"Percent change: {percentChange*100}%\")\n",
        "avgRouge = {}\n",
        "avgRougeFake = {}\n",
        "for key in total_rouge_scores:\n",
        "    avgRouge[key] = total_rouge_scores[key]/len(data)\n",
        "    avgRougeFake[key] = total_rouge_scoresFake[key]/len(data)\n",
        "print('Avg ROUGE: ', avgRouge)\n",
        "print('Avg Fake ROUGE: ', avgRougeFake)\n",
        "\n",
        "percChangeRouge = {}\n",
        "for key in avgRouge:\n",
        "    percChangeRouge[key] = 100 * \\\n",
        "        (avgRouge[key]-avgRougeFake[key])/avgRougeFake[key]\n",
        "print(f'Percent change ROUGE: {percChangeRouge}')\n",
        "\n",
        "# BLEU\n",
        "# bleuCorrect = [[text.split()] for text in correct]\n",
        "# bleuPredicted = [text.split() for text in predicted]\n",
        "# blueInps = [text.split() for text in Inps]\n",
        "# actualBleu = corpus_bleu(bleuCorrect, bleuPredicted)\n",
        "# print('BLEU: ', actualBleu)\n",
        "\n",
        "# fakeBleu = corpus_bleu(bleuCorrect, blueInps)\n",
        "# print(\"Fake BLEU: \", fakeBleu)\n",
        "\n",
        "# print(f\"Percent change: {((actualBleu-fakeBleu)/fakeBleu)*100}%\")\n",
        "\n",
        "# BERTScore\n",
        "def cosine_similarity(vector1, vector2):\n",
        "  \n",
        "    dot_product = np.dot(vector1, vector2.T)\n",
        "    norm1 = np.linalg.norm(vector1)\n",
        "    norm2 = np.linalg.norm(vector2)\n",
        "    similarity = dot_product / (norm1 * norm2)\n",
        "    return similarity\n",
        "\n",
        "tokenizer_bert = BertTokenizer.from_pretrained(\"bert-base-uncased\")\n",
        "model_bert = BertModel.from_pretrained(\"bert-base-uncased\")\n",
        "\n",
        "correct_bert =   tokenizer_bert(correct, return_tensors=\"pt\", padding=True, truncation=True)\n",
        "predicted_bert = tokenizer_bert(predicted, return_tensors=\"pt\", padding=True, truncation=True)\n",
        "inps_bert =      tokenizer_bert(Inps, return_tensors=\"pt\", padding=True, truncation=True)\n",
        "\n",
        "\n",
        "correct_output =  model_bert(**correct_bert)\n",
        "predicted_output= model_bert(**predicted_bert)\n",
        "inps_output =     model_bert(**inps_bert)\n",
        "\n",
        "# Obtain the representation vectors\n",
        "embeddings_correct =   correct_output.last_hidden_state.mean(dim=1).detach().numpy()\n",
        "embeddings_predicted = predicted_output.last_hidden_state.mean(dim=1).detach().numpy()\n",
        "embeddings_inps =      inps_output.last_hidden_state.mean(dim=1).detach().numpy()\n",
        "\n",
        "\n",
        "\n",
        "similarity_bert  =  cosine_similarity(embeddings_correct, embeddings_predicted)\n",
        "similarity_fake  =  cosine_similarity(embeddings_correct, embeddings_inps)\n",
        "\n",
        "\n",
        "print(\"Similarity between the texts: {:.4f}\".format(similarity_bert[0][0]))\n",
        "print(\"Fake Similarity between the texts: {:.4f}\".format(similarity_fake[0][0]))"
      ]
    },
    {
      "cell_type": "code",
      "execution_count": null,
      "metadata": {},
      "outputs": [],
      "source": []
    }
  ],
  "metadata": {
    "accelerator": "GPU",
    "colab": {
      "gpuType": "T4",
      "provenance": []
    },
    "kernelspec": {
      "display_name": "Python 3",
      "name": "python3"
    },
    "language_info": {
      "codemirror_mode": {
        "name": "ipython",
        "version": 3
      },
      "file_extension": ".py",
      "mimetype": "text/x-python",
      "name": "python",
      "nbconvert_exporter": "python",
      "pygments_lexer": "ipython3",
      "version": "3.12.2"
    }
  },
  "nbformat": 4,
  "nbformat_minor": 0
}
