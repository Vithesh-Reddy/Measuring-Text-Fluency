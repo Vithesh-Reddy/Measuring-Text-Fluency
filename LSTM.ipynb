{
 "cells": [
  {
   "cell_type": "code",
   "execution_count": 2,
   "metadata": {},
   "outputs": [
    {
     "name": "stderr",
     "output_type": "stream",
     "text": [
      "/home2/autotune_vits/miniconda3/envs/nlp_env/lib/python3.12/site-packages/tqdm/auto.py:21: TqdmWarning: IProgress not found. Please update jupyter and ipywidgets. See https://ipywidgets.readthedocs.io/en/stable/user_install.html\n",
      "  from .autonotebook import tqdm as notebook_tqdm\n"
     ]
    }
   ],
   "source": [
    "# import all necessary packages\n",
    "import numpy as np\n",
    "import torch\n",
    "import torch.nn as nn\n",
    "import torch.nn.functional as F\n",
    "from torch.utils.data import Dataset, DataLoader, TensorDataset\n",
    "from collections import Counter\n",
    "import random\n",
    "import os\n",
    "import matplotlib.pyplot as plt\n",
    "import pickle\n",
    "from tqdm import tqdm\n",
    "import nltk\n",
    "from nltk.tokenize import word_tokenize\n",
    "from nltk.corpus import stopwords\n",
    "import collections\n",
    "import itertools\n",
    "import re\n",
    "from sklearn.manifold import TSNE\n",
    "from sklearn.metrics.pairwise import cosine_similarity\n",
    "import pandas as pd\n",
    "from nltk.stem import WordNetLemmatizer\n",
    "from scipy.stats import pearsonr, spearmanr\n",
    "from sklearn.model_selection import train_test_split\n",
    "from numpy import dot\n",
    "from nltk.tokenize import sent_tokenize\n",
    "from sklearn.decomposition import TruncatedSVD\n",
    "from scipy.sparse.linalg import svds\n",
    "from sklearn.metrics import confusion_matrix, f1_score, precision_score, recall_score\n",
    "from datasets import load_dataset\n",
    "import pandas as pd"
   ]
  },
  {
   "cell_type": "code",
   "execution_count": 3,
   "metadata": {},
   "outputs": [
    {
     "name": "stdout",
     "output_type": "stream",
     "text": [
      "cuda\n",
      "NVIDIA GeForce RTX 2080 Ti\n"
     ]
    }
   ],
   "source": [
    "# Check if GPU is available\n",
    "device = torch.device('cuda' if torch.cuda.is_available() else 'cpu')\n",
    "print(device)\n",
    "print(torch.cuda.get_device_name(0))"
   ]
  },
  {
   "cell_type": "markdown",
   "metadata": {},
   "source": [
    "## Data Preprocessing"
   ]
  },
  {
   "cell_type": "code",
   "execution_count": 4,
   "metadata": {},
   "outputs": [],
   "source": [
    "def get_sentences(csv_file):\n",
    "    df = pd.read_csv(csv_file, nrows=20000)\n",
    "    # Drop NaN values from 'output' and 'input' columns\n",
    "    train_sentences = df['output'].dropna().tolist()\n",
    "    test_sentences = df['input'].dropna().tolist()\n",
    "    return train_sentences, test_sentences"
   ]
  },
  {
   "cell_type": "code",
   "execution_count": 5,
   "metadata": {},
   "outputs": [],
   "source": [
    "sentences, test_sentences = get_sentences('C4_200M_1M.csv')"
   ]
  },
  {
   "cell_type": "code",
   "execution_count": 6,
   "metadata": {},
   "outputs": [
    {
     "name": "stdout",
     "output_type": "stream",
     "text": [
      "20000\n",
      "['Bitcoin goes for $7,094 this morning, according to CoinDesk.', '1. The effect of \"widespread dud\" targets two face up attack position monsters on the field.', 'Capital Gains tax on the sale of properties for non-residents is set at 21% for 2014 and 20% in 2015 payable on profits earned on the difference of the property value between the year of purchase (purchase price plus costs) and the year of sale (sales price minus costs), based on the approved annual percentage increase on the base value approved by law.', 'Many brands and sellers still in the market.', 'This is is the latest maintenance release of Samba 3.6.', \"Fairy Or Not, I'm the Godmother: Not just a look, but my outfit for taking on the role as godmother.\", 'Watch as this Dodge Challenger Hellcat gets smoked by a Tesla Model S at the drag strip.', 'Moreover, these devices are proven to help consumers while another company that information.', 'Every cloud has a silver lining and it’s just possible that we were beaten before the off as the first three home came from stalls eight to 12, while we were drawn in berth two which meant that our fellow was forced to race in the middle of the course while the leader kicked on on the stands’ rail.', 'Get involved and help the movement!']\n"
     ]
    }
   ],
   "source": [
    "print(len(sentences))\n",
    "print(sentences[:10])"
   ]
  },
  {
   "cell_type": "code",
   "execution_count": 7,
   "metadata": {},
   "outputs": [],
   "source": [
    "class Preprocess():\n",
    "    def __init__(self, sentences):\n",
    "        self.sentences = sentences\n",
    "        self.stop_words = set(stopwords.words('english'))\n",
    "\n",
    "    def word_tokenizer(self):\n",
    "        # Define unique placeholders for special tokens\n",
    "        placeholders = {\n",
    "            '<URL>': 'URL_PLACEHOLDER',\n",
    "            '<MAILID>': 'MAILID_PLACEHOLDER',\n",
    "            '<HASHTAG>': 'HASHTAG_PLACEHOLDER',\n",
    "            '<MENTION>': 'MENTION_PLACEHOLDER',\n",
    "            '<PERCENT>': 'PERCENT_PLACEHOLDER',\n",
    "            '<AGE>': 'AGE_PLACEHOLDER',\n",
    "            '<TIME>': 'TIME_PLACEHOLDER',\n",
    "            '<NUM>': 'NUM_PLACEHOLDER'\n",
    "        }\n",
    "\n",
    "        # Replace special tokens with placeholders\n",
    "        for key, value in placeholders.items():\n",
    "            self.sentences = [sentence.replace(key, value) for sentence in self.sentences]\n",
    "\n",
    "        # Tokenize sentences\n",
    "        self.sentences = [word_tokenize(sentence) for sentence in self.sentences]\n",
    "\n",
    "        # Replace placeholders with original special tokens\n",
    "        for key, value in placeholders.items():\n",
    "            self.sentences = [[token if token != value else key for token in sentence] for sentence in self.sentences]\n",
    "\n",
    "        return self.sentences\n",
    "\n",
    "    def lowercase(self):\n",
    "        self.sentences = [[word.lower() for word in sentence] for sentence in self.sentences]\n",
    "    \n",
    "    def remove_stop_words(self):\n",
    "        stop_words = self.stop_words\n",
    "        self.sentences = [[word for word in sentence if word not in stop_words] for sentence in self.sentences]\n",
    "\n",
    "    def remove_punctuation(self):\n",
    "        # Define a set of basic punctuation characters to remove\n",
    "        basic_punctuation = {'.', ',', ';', ':', '!', '-', '(', ')', '[', ']', '{', '}', '\"', \"'\"}\n",
    "        self.sentences = [[word for word in sentence if word not in basic_punctuation] for sentence in self.sentences]\n",
    "\n",
    "    # identify numbers and replace them with a special token <NUM>\n",
    "    def replace_numbers(self):\n",
    "        number_regex = r'\\b\\d+\\b'  # Regular expression to match whole numbers\n",
    "        self.sentences = [re.sub(number_regex, '<NUM>', sentence) for sentence in self.sentences]\n",
    "    \n",
    "    def replace_urls(self):\n",
    "        url_regex = r'\\b(?:https?://|www\\.)\\S+\\b'\n",
    "        self.sentences = [re.sub(url_regex, '<URL>', sentence) for sentence in self.sentences]\n",
    "    \n",
    "    def replace_emails(self):\n",
    "        email_regex = r'\\b[A-Z0-9._%+-]+@[A-Z0-9.-]+\\.[A-Z]{2,}\\b'\n",
    "        self.sentences = [re.sub(email_regex, '<MAILID>', sentence, flags=re.IGNORECASE) for sentence in self.sentences]\n",
    "        \n",
    "    def replace_hashtags(self):\n",
    "        hashtag_regex = r'\\#\\w+'\n",
    "        self.sentences = [re.sub(hashtag_regex, '<HASHTAG>', sentence, flags=re.IGNORECASE) for sentence in self.sentences]\n",
    "    \n",
    "    def replace_mentions(self):\n",
    "        mention_regex = r'\\@\\w+'\n",
    "        self.sentences = [re.sub(mention_regex, '<MENTION>', sentence, flags=re.IGNORECASE) for sentence in self.sentences]\n",
    "    \n",
    "    def replace_percentages(self):\n",
    "        percent_regex = r'\\b\\d+(\\.\\d+)?%|\\b\\d+(\\.\\d+)?\\s?(percent|per cent|percentage)\\b'\n",
    "        self.sentences = [re.sub(percent_regex, '<PERCENT>', sentence, flags=re.IGNORECASE) for sentence in self.sentences]\n",
    "    \n",
    "    def replace_age_values(self):\n",
    "        age_regex = r'\\b\\d+-year-old|\\b\\d+\\syear(s)?\\sold\\b'\n",
    "        self.sentences = [re.sub(age_regex, '<AGE>', sentence, flags=re.IGNORECASE) for sentence in self.sentences]\n",
    "    \n",
    "    def replace_time_expressions(self):\n",
    "        time_regex = r'\\b\\d{1,2}:\\d{2}\\s?(AM|PM|am|pm)\\b'\n",
    "        self.sentences = [re.sub(time_regex, '<TIME>', sentence) for sentence in self.sentences]\n",
    "    \n",
    "    def replace_backslashes(self):\n",
    "        backslash_regex = r'\\\\'\n",
    "        self.sentences = [re.sub(backslash_regex, '', sentence) for sentence in self.sentences]\n",
    "        backtick_regex = r'`'\n",
    "        self.sentences = [re.sub(backtick_regex, '', sentence) for sentence in self.sentences]\n",
    "        self.sentences = [sentence.replace(\"''\", '') for sentence in self.sentences]\n",
    "        # Regular expression to find quoted text (simple version)\n",
    "        quotes_regex = r'\\\"[^\\\"]*\\\"'\n",
    "        self.sentences = [re.sub(quotes_regex, lambda m: m.group(0)[1:-1], sentence) for sentence in self.sentences]\n",
    "    \n",
    "    def process(self):\n",
    "        self.replace_backslashes()\n",
    "        # self.replace_urls()\n",
    "        # self.replace_emails()\n",
    "        # self.replace_hashtags()\n",
    "        # self.replace_mentions()\n",
    "\n",
    "        self.replace_percentages()\n",
    "        self.replace_age_values()\n",
    "        self.replace_time_expressions()\n",
    "        self.replace_numbers()\n",
    "\n",
    "        self.word_tokenizer()\n",
    "\n",
    "        self.lowercase()\n",
    "        self.remove_stop_words()\n",
    "        self.remove_punctuation()\n",
    "        \n",
    "        return self.sentences\n"
   ]
  },
  {
   "cell_type": "code",
   "execution_count": 8,
   "metadata": {},
   "outputs": [],
   "source": [
    "# Preprocess the sentences\n",
    "preprocess = Preprocess(sentences)\n",
    "sentences = preprocess.process()"
   ]
  },
  {
   "cell_type": "code",
   "execution_count": 27,
   "metadata": {},
   "outputs": [],
   "source": [
    "# Preprocess the test sentences\n",
    "preprocess = Preprocess(test_sentences)\n",
    "test_sentences = preprocess.process()"
   ]
  },
  {
   "cell_type": "code",
   "execution_count": 9,
   "metadata": {},
   "outputs": [
    {
     "name": "stdout",
     "output_type": "stream",
     "text": [
      "20000\n",
      "[['bitcoin', 'goes', '$', '<num>', '<num>', 'morning', 'according', 'coindesk'], ['<num>', 'effect', 'widespread', 'dud', 'targets', 'two', 'face', 'attack', 'position', 'monsters', 'field'], ['capital', 'gains', 'tax', 'sale', 'properties', 'non-residents', 'set', '<percent>', '<num>', '<percent>', '<num>', 'payable', 'profits', 'earned', 'difference', 'property', 'value', 'year', 'purchase', 'purchase', 'price', 'plus', 'costs', 'year', 'sale', 'sales', 'price', 'minus', 'costs', 'based', 'approved', 'annual', 'percentage', 'increase', 'base', 'value', 'approved', 'law'], ['many', 'brands', 'sellers', 'still', 'market'], ['latest', 'maintenance', 'release', 'samba', 'num_placeholder.num_placeholder'], ['fairy', \"'m\", 'godmother', 'look', 'outfit', 'taking', 'role', 'godmother'], ['watch', 'dodge', 'challenger', 'hellcat', 'gets', 'smoked', 'tesla', 'model', 'drag', 'strip'], ['moreover', 'devices', 'proven', 'help', 'consumers', 'another', 'company', 'information'], ['every', 'cloud', 'silver', 'lining', '’', 'possible', 'beaten', 'first', 'three', 'home', 'came', 'stalls', 'eight', '<num>', 'drawn', 'berth', 'two', 'meant', 'fellow', 'forced', 'race', 'middle', 'course', 'leader', 'kicked', 'stands', '’', 'rail'], ['get', 'involved', 'help', 'movement']]\n"
     ]
    }
   ],
   "source": [
    "print(len(sentences))\n",
    "print(sentences[:10])"
   ]
  },
  {
   "cell_type": "code",
   "execution_count": 10,
   "metadata": {},
   "outputs": [],
   "source": [
    "class Vocabulary:\n",
    "    def __init__(self, freq_threshold=1):\n",
    "        # Initialize vocab with special tokens\n",
    "        self.itos = {0: \"<PAD>\", 1: \"<UNK>\", 2: \"<BOS>\", 3: \"<EOS>\"}\n",
    "        self.stoi = {v: k for k, v in self.itos.items()}\n",
    "        self.freq_threshold = freq_threshold\n",
    "\n",
    "    def __len__(self):\n",
    "        return len(self.itos)\n",
    "\n",
    "    def build_vocabulary(self, sentence_list):\n",
    "        frequencies = Counter(word for sentence in sentence_list for word in sentence)\n",
    "        idx = len(self.itos)  # Start indexing for new words from here\n",
    "        for word, freq in frequencies.items():\n",
    "            if freq >= self.freq_threshold:\n",
    "                self.stoi[word] = idx\n",
    "                self.itos[idx] = word\n",
    "                idx += 1\n",
    "\n",
    "    def numericalize(self, text):\n",
    "        return [self.stoi[word] if word in self.stoi else self.stoi[\"<UNK>\"] for word in text]"
   ]
  },
  {
   "cell_type": "code",
   "execution_count": 16,
   "metadata": {},
   "outputs": [],
   "source": [
    "# Create vocabulary object\n",
    "vocab = Vocabulary(freq_threshold=3)\n",
    "vocab.build_vocabulary(sentences)"
   ]
  },
  {
   "cell_type": "code",
   "execution_count": 17,
   "metadata": {},
   "outputs": [
    {
     "name": "stdout",
     "output_type": "stream",
     "text": [
      "12344\n",
      "[('<PAD>', 0), ('<UNK>', 1), ('<BOS>', 2), ('<EOS>', 3), ('bitcoin', 4), ('goes', 5), ('$', 6), ('<num>', 7), ('morning', 8), ('according', 9)]\n"
     ]
    }
   ],
   "source": [
    "# Check the length of the vocabulary\n",
    "print(len(vocab))\n",
    "# Print some of the tokens in the vocabulary\n",
    "print(list(vocab.stoi.items())[:10])"
   ]
  },
  {
   "cell_type": "code",
   "execution_count": 18,
   "metadata": {},
   "outputs": [],
   "source": [
    "def create_dataloader(sentences, vocab, sequence_length=50, batch_size=64):\n",
    "    # Initialize lists to hold numericalized sentences (X) and targets (y)\n",
    "    X = []\n",
    "    y = []\n",
    "\n",
    "    for sentence in sentences:\n",
    "        # Numericalize the sentence\n",
    "        numericalized = [vocab.stoi[\"<BOS>\"]] + vocab.numericalize(sentence) + [vocab.stoi[\"<EOS>\"]]\n",
    "        # Pad or truncate the sentence to the desired sequence length\n",
    "        padded = numericalized[:sequence_length] + [vocab.stoi[\"<PAD>\"]] * max(0, sequence_length - len(numericalized))\n",
    "        if len(padded) > sequence_length:\n",
    "            padded = padded[:sequence_length-1] + [vocab.stoi[\"<EOS>\"]]\n",
    "        \n",
    "        # Append to lists\n",
    "        X.append(padded[:-1])  # Input sequence\n",
    "        y.append(padded[1:])   # Target sequence (next word prediction)\n",
    "    \n",
    "    # Convert lists to tensors\n",
    "    X_tensor = torch.tensor(X, dtype=torch.long)\n",
    "    y_tensor = torch.tensor(y, dtype=torch.long)\n",
    "    \n",
    "    # Create a TensorDataset and DataLoader\n",
    "    dataset = TensorDataset(X_tensor, y_tensor)\n",
    "    dataloader = DataLoader(dataset, batch_size=batch_size, shuffle=True)\n",
    "    \n",
    "    return dataloader"
   ]
  },
  {
   "cell_type": "code",
   "execution_count": 19,
   "metadata": {},
   "outputs": [],
   "source": [
    "# Create a dataloader\n",
    "train_dataloader = create_dataloader(sentences, vocab, sequence_length=50, batch_size=32)"
   ]
  },
  {
   "cell_type": "markdown",
   "metadata": {},
   "source": [
    "## LSTM Model"
   ]
  },
  {
   "cell_type": "code",
   "execution_count": 20,
   "metadata": {},
   "outputs": [],
   "source": [
    "class BiLSTM(nn.Module):\n",
    "    def __init__(self, vocab_size, embedding_dim, hidden_dim, num_layers, dropout):\n",
    "        super(BiLSTM, self).__init__()\n",
    "        self.embedding = nn.Embedding(vocab_size, embedding_dim)\n",
    "        \n",
    "        # Embedding dropout\n",
    "        self.embedding_dropout = nn.Dropout(dropout)\n",
    "        \n",
    "        self.lstm = nn.LSTM(embedding_dim, hidden_dim, num_layers=num_layers,\n",
    "                            batch_first=True, dropout=dropout, bidirectional=True)\n",
    "        \n",
    "        # Dropout layer before the fully connected layer\n",
    "        self.fc_dropout = nn.Dropout(dropout)\n",
    "        \n",
    "        self.fc = nn.Linear(hidden_dim * 2, vocab_size)\n",
    "\n",
    "    def forward(self, text):\n",
    "        embedded = self.embedding_dropout(self.embedding(text))\n",
    "        lstm_out, _ = self.lstm(embedded)\n",
    "        \n",
    "        # Apply dropout to the outputs of the LSTM layer before passing to the fully connected layer\n",
    "        out = self.fc(self.fc_dropout(lstm_out))\n",
    "        return out"
   ]
  },
  {
   "cell_type": "code",
   "execution_count": 21,
   "metadata": {},
   "outputs": [],
   "source": [
    "# Hyperparameters\n",
    "vocab_size = len(vocab)\n",
    "embedding_dim = 100\n",
    "hidden_dim = 64\n",
    "num_layers = 2\n",
    "dropout = 0.2\n",
    "\n",
    "learning_rate = 0.001\n",
    "num_epochs = 10\n",
    "\n",
    "# Initialize the model\n",
    "model = BiLSTM(vocab_size, embedding_dim, hidden_dim, num_layers, dropout).to(device)\n",
    "\n",
    "# Define the loss function and optimizer\n",
    "criterion = nn.CrossEntropyLoss(ignore_index=vocab.stoi[\"<PAD>\"])\n",
    "optimizer = torch.optim.Adam(model.parameters(), lr=learning_rate)"
   ]
  },
  {
   "cell_type": "code",
   "execution_count": 22,
   "metadata": {},
   "outputs": [],
   "source": [
    "def train_lstm(model, train_dataloader, optimizer, criterion, device, num_epochs):\n",
    "    model.to(device)  # Ensure the model is on the correct device\n",
    "    \n",
    "    for epoch in range(num_epochs):\n",
    "        model.train()  # Set the model to training mode\n",
    "        total_loss = 0\n",
    "        \n",
    "        for inputs, targets in train_dataloader:\n",
    "            inputs, targets = inputs.to(device), targets.to(device)\n",
    "            \n",
    "            # Forward pass\n",
    "            outputs = model(inputs)\n",
    "            outputs = outputs.view(-1, outputs.shape[-1])  # Reshape for calculating loss\n",
    "            targets = targets.view(-1)\n",
    "            \n",
    "            # Calculate loss\n",
    "            loss = criterion(outputs, targets)\n",
    "            \n",
    "            # Backward pass and optimize\n",
    "            optimizer.zero_grad()\n",
    "            loss.backward()\n",
    "            optimizer.step()\n",
    "            \n",
    "            total_loss += loss.item()\n",
    "        \n",
    "        avg_loss = total_loss / len(train_dataloader)\n",
    "        print(f'Epoch {epoch+1}/{num_epochs}, Loss: {avg_loss:.4f}')"
   ]
  },
  {
   "cell_type": "code",
   "execution_count": 23,
   "metadata": {},
   "outputs": [
    {
     "name": "stdout",
     "output_type": "stream",
     "text": [
      "Epoch 1/10, Loss: 6.7114\n",
      "Epoch 2/10, Loss: 5.4577\n",
      "Epoch 3/10, Loss: 4.3440\n",
      "Epoch 4/10, Loss: 3.4829\n",
      "Epoch 5/10, Loss: 2.8250\n",
      "Epoch 6/10, Loss: 2.3211\n",
      "Epoch 7/10, Loss: 1.9257\n",
      "Epoch 8/10, Loss: 1.6016\n",
      "Epoch 9/10, Loss: 1.3405\n",
      "Epoch 10/10, Loss: 1.1243\n"
     ]
    }
   ],
   "source": [
    "train_lstm(model, train_dataloader, optimizer, criterion, device, num_epochs)"
   ]
  },
  {
   "cell_type": "markdown",
   "metadata": {},
   "source": [
    "## Perplexity"
   ]
  },
  {
   "cell_type": "code",
   "execution_count": 24,
   "metadata": {},
   "outputs": [],
   "source": [
    "# Function to calculate perplexity\n",
    "def sentence_perplexity(preprocessed_tokens, model, vocab, device):\n",
    "    # Ensure the sentence starts with <BOS> and ends with <EOS>\n",
    "    tokens = ['<BOS>'] + preprocessed_tokens + ['<EOS>']\n",
    "    \n",
    "    # Numericalize the tokens\n",
    "    numericalized_tokens = [vocab.stoi.get(token, vocab.stoi['<UNK>']) for token in tokens]\n",
    "    \n",
    "    # Convert to a tensor and add a batch dimension\n",
    "    input_tensor = torch.LongTensor(numericalized_tokens).unsqueeze(0).to(device)\n",
    "    \n",
    "    model.eval()  # Set the model to evaluation mode\n",
    "    \n",
    "    with torch.no_grad():  # Disable gradient calculation\n",
    "        output = model(input_tensor)\n",
    "        probabilities = F.softmax(output, dim=2)\n",
    "        \n",
    "        target_probabilities = probabilities[0, range(len(numericalized_tokens)-1), numericalized_tokens[1:]]\n",
    "        \n",
    "        log_probabilities = torch.log2(target_probabilities)\n",
    "        \n",
    "        # Calculate perplexity\n",
    "        perplexity = torch.pow(2, -log_probabilities.mean())\n",
    "\n",
    "    return perplexity.item()"
   ]
  },
  {
   "cell_type": "code",
   "execution_count": 32,
   "metadata": {},
   "outputs": [],
   "source": [
    "def average_and_median_perplexity(sentences, model, vocab, device):\n",
    "    perplexities = [sentence_perplexity(sentence, model, vocab, device) for sentence in sentences]\n",
    "    \n",
    "    average_perplexity = sum(perplexities) / len(perplexities)\n",
    "    median_perplexity = np.median(perplexities)\n",
    "    \n",
    "    return average_perplexity, median_perplexity"
   ]
  },
  {
   "cell_type": "code",
   "execution_count": 29,
   "metadata": {},
   "outputs": [],
   "source": [
    "# Function to plot perplexity distribution\n",
    "def plot_perplexity_distribution(sentences, model, vocab, device):\n",
    "    perplexities = []\n",
    "    \n",
    "    for sentence in sentences:\n",
    "        perplexity = sentence_perplexity(sentence, model, vocab, device)\n",
    "        perplexities.append(perplexity)\n",
    "    \n",
    "    # Plotting\n",
    "    plt.figure(figsize=(10, 6))\n",
    "    plt.hist(perplexities, bins=50, color='skyblue', edgecolor='black')\n",
    "    plt.title('Distribution of Sentence Perplexities')\n",
    "    plt.xlabel('Perplexity')\n",
    "    plt.ylabel('Frequency')\n",
    "    plt.grid(axis='y', alpha=0.75)\n",
    "    plt.show()"
   ]
  },
  {
   "cell_type": "code",
   "execution_count": 33,
   "metadata": {},
   "outputs": [
    {
     "name": "stdout",
     "output_type": "stream",
     "text": [
      "Training Average Perplexity: 1.7059\n",
      "Training Median Perplexity: 1.5108\n"
     ]
    }
   ],
   "source": [
    "# Get the average perplexity of the training sentences\n",
    "train_avg, train_med = average_and_median_perplexity(sentences, model, vocab, device) \n",
    "print(f'Training Average Perplexity: {train_avg:.4f}')\n",
    "print(f'Training Median Perplexity: {train_med:.4f}')"
   ]
  },
  {
   "cell_type": "code",
   "execution_count": 30,
   "metadata": {},
   "outputs": [
    {
     "data": {
      "image/png": "[encoded data removed]",
      "text/plain": [
       "<Figure size 1000x600 with 1 Axes>"
      ]
     },
     "metadata": {},
     "output_type": "display_data"
    }
   ],
   "source": [
    "# Plot the perplexity distribution of the training sentences\n",
    "plot_perplexity_distribution(sentences, model, vocab, device)"
   ]
  },
  {
   "cell_type": "code",
   "execution_count": 34,
   "metadata": {},
   "outputs": [
    {
     "name": "stdout",
     "output_type": "stream",
     "text": [
      "Test Average Perplexity: 1.6833\n",
      "Test Median Perplexity: 1.4858\n"
     ]
    }
   ],
   "source": [
    "# Get the average perplexity of the test sentences\n",
    "test_avg, test_med = average_and_median_perplexity(test_sentences, model, vocab, device)\n",
    "print(f'Test Average Perplexity: {test_avg:.4f}')\n",
    "print(f'Test Median Perplexity: {test_med:.4f}')"
   ]
  },
  {
   "cell_type": "code",
   "execution_count": 31,
   "metadata": {},
   "outputs": [
    {
     "data": {
      "image/png": "[encoded data removed]",
      "text/plain": [
       "<Figure size 1000x600 with 1 Axes>"
      ]
     },
     "metadata": {},
     "output_type": "display_data"
    }
   ],
   "source": [
    "# Plot the perplexity distribution of the test sentences\n",
    "plot_perplexity_distribution(test_sentences, model, vocab, device)"
   ]
  }
 ],
 "metadata": {
  "kernelspec": {
   "display_name": "Python 3",
   "language": "python",
   "name": "python3"
  },
  "language_info": {
   "codemirror_mode": {
    "name": "ipython",
    "version": 3
   },
   "file_extension": ".py",
   "mimetype": "text/x-python",
   "name": "python",
   "nbconvert_exporter": "python",
   "pygments_lexer": "ipython3",
   "version": "3.12.2"
  }
 },
 "nbformat": 4,
 "nbformat_minor": 2
}
