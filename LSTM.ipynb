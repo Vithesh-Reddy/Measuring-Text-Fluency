{
 "cells": [
  {
   "cell_type": "code",
   "execution_count": 36,
   "metadata": {},
   "outputs": [],
   "source": [
    "# import all necessary packages\n",
    "import numpy as np\n",
    "import torch\n",
    "import torch.nn as nn\n",
    "import torch.nn.functional as F\n",
    "from torch.utils.data import Dataset, DataLoader, TensorDataset\n",
    "from collections import Counter\n",
    "import random\n",
    "import os\n",
    "import matplotlib.pyplot as plt\n",
    "import pickle\n",
    "from tqdm import tqdm\n",
    "import nltk\n",
    "from nltk.tokenize import word_tokenize\n",
    "from nltk.corpus import stopwords\n",
    "import collections\n",
    "import itertools\n",
    "import re\n",
    "from sklearn.manifold import TSNE\n",
    "from sklearn.metrics.pairwise import cosine_similarity\n",
    "import pandas as pd\n",
    "from nltk.stem import WordNetLemmatizer\n",
    "from scipy.stats import pearsonr, spearmanr\n",
    "from sklearn.model_selection import train_test_split\n",
    "from numpy import dot\n",
    "from nltk.tokenize import sent_tokenize\n",
    "from sklearn.decomposition import TruncatedSVD\n",
    "from scipy.sparse.linalg import svds\n",
    "from sklearn.metrics import confusion_matrix, f1_score, precision_score, recall_score\n",
    "from datasets import load_dataset\n",
    "import pandas as pd\n",
    "from sklearn.metrics import (\n",
    "    accuracy_score, f1_score, precision_score, recall_score, confusion_matrix,\n",
    "    roc_curve, auc, matthews_corrcoef\n",
    ")"
   ]
  },
  {
   "cell_type": "code",
   "execution_count": 37,
   "metadata": {},
   "outputs": [
    {
     "name": "stdout",
     "output_type": "stream",
     "text": [
      "cuda\n",
      "NVIDIA GeForce RTX 2080 Ti\n"
     ]
    }
   ],
   "source": [
    "# Check if GPU is available\n",
    "device = torch.device('cuda' if torch.cuda.is_available() else 'cpu')\n",
    "print(device)\n",
    "print(torch.cuda.get_device_name(0))"
   ]
  },
  {
   "cell_type": "markdown",
   "metadata": {},
   "source": [
    "## Data Preprocessing"
   ]
  },
  {
   "cell_type": "code",
   "execution_count": 38,
   "metadata": {},
   "outputs": [],
   "source": [
    "def get_sentences(csv_file):\n",
    "    train_sentences = []\n",
    "    test_sentences = []\n",
    "    train_sentences2 = []\n",
    "    \n",
    "    chunksize = 10000\n",
    "    first_20k_complete = False\n",
    "    second_20k_counter = 0\n",
    "    \n",
    "    for chunk in pd.read_csv(csv_file, chunksize=chunksize):\n",
    "        for _, row in chunk.iterrows():\n",
    "            # Exclude null rows\n",
    "            if pd.notnull(row['input']) and pd.notnull(row['output']):\n",
    "                input_text, output_text = row['input'], row['output']\n",
    "                \n",
    "                # Check if still collecting first 20k 'output' sentences\n",
    "                if not first_20k_complete:\n",
    "                    if len(input_text) < 100 and len(test_sentences) < 20000:\n",
    "                        test_sentences.append(input_text)\n",
    "                    if len(output_text) < 100 and len(train_sentences) < 20000:\n",
    "                        train_sentences.append(output_text)\n",
    "\n",
    "                    if len(train_sentences) == 20000 and len(test_sentences) == 20000:\n",
    "                        first_20k_complete = True\n",
    "                # Start collecting second set of 20k 'output' sentences\n",
    "                elif second_20k_counter < 20000 and len(output_text) < 100:\n",
    "                    train_sentences2.append(output_text)\n",
    "                    second_20k_counter += 1\n",
    "            \n",
    "            # Break if both sets of train sentences are collected\n",
    "            if first_20k_complete and second_20k_counter == 20000:\n",
    "                break\n",
    "    \n",
    "    return train_sentences, test_sentences, train_sentences2"
   ]
  },
  {
   "cell_type": "code",
   "execution_count": 39,
   "metadata": {},
   "outputs": [],
   "source": [
    "sentences, test_sentences, output_sentences = get_sentences('C4_200M_1M.csv')"
   ]
  },
  {
   "cell_type": "code",
   "execution_count": 40,
   "metadata": {},
   "outputs": [
    {
     "name": "stdout",
     "output_type": "stream",
     "text": [
      "20000\n",
      "20000\n",
      "20000\n",
      "['Bitcoin goes for $7,094 this morning, according to CoinDesk.', '1. The effect of \"widespread dud\" targets two face up attack position monsters on the field.', 'Many brands and sellers still in the market.', 'This is is the latest maintenance release of Samba 3.6.', 'Watch as this Dodge Challenger Hellcat gets smoked by a Tesla Model S at the drag strip.', 'Moreover, these devices are proven to help consumers while another company that information.', 'Get involved and help the movement!', 'These iconic bandanas have been seen among all types of people (and animals) around the world!', 'What grade or building level(s) will your idea impact?', 'Ignition Control for Terex TL60 Wheel Loader.']\n"
     ]
    }
   ],
   "source": [
    "print(len(sentences))\n",
    "print(len(test_sentences))\n",
    "print(len(output_sentences))\n",
    "print(sentences[:10])"
   ]
  },
  {
   "cell_type": "code",
   "execution_count": 41,
   "metadata": {},
   "outputs": [],
   "source": [
    "class Preprocess():\n",
    "    def __init__(self, sentences):\n",
    "        self.sentences = sentences\n",
    "        self.stop_words = set(stopwords.words('english'))\n",
    "\n",
    "    def word_tokenizer(self):\n",
    "        # Define unique placeholders for special tokens\n",
    "        placeholders = {\n",
    "            '<URL>': 'URL_PLACEHOLDER',\n",
    "            '<MAILID>': 'MAILID_PLACEHOLDER',\n",
    "            '<HASHTAG>': 'HASHTAG_PLACEHOLDER',\n",
    "            '<MENTION>': 'MENTION_PLACEHOLDER',\n",
    "            '<PERCENT>': 'PERCENT_PLACEHOLDER',\n",
    "            '<AGE>': 'AGE_PLACEHOLDER',\n",
    "            '<TIME>': 'TIME_PLACEHOLDER',\n",
    "            '<NUM>': 'NUM_PLACEHOLDER'\n",
    "        }\n",
    "\n",
    "        # Replace special tokens with placeholders\n",
    "        for key, value in placeholders.items():\n",
    "            self.sentences = [sentence.replace(key, value) for sentence in self.sentences]\n",
    "\n",
    "        # Tokenize sentences\n",
    "        self.sentences = [word_tokenize(sentence) for sentence in self.sentences]\n",
    "\n",
    "        # Replace placeholders with original special tokens\n",
    "        for key, value in placeholders.items():\n",
    "            self.sentences = [[token if token != value else key for token in sentence] for sentence in self.sentences]\n",
    "\n",
    "        return self.sentences\n",
    "\n",
    "    def lowercase(self):\n",
    "        self.sentences = [[word.lower() for word in sentence] for sentence in self.sentences]\n",
    "    \n",
    "    def remove_stop_words(self):\n",
    "        stop_words = self.stop_words\n",
    "        self.sentences = [[word for word in sentence if word not in stop_words] for sentence in self.sentences]\n",
    "\n",
    "    def remove_punctuation(self):\n",
    "        # Define a set of basic punctuation characters to remove\n",
    "        basic_punctuation = {'.', ',', ';', ':', '!', '-', '(', ')', '[', ']', '{', '}', '\"', \"'\"}\n",
    "        self.sentences = [[word for word in sentence if word not in basic_punctuation] for sentence in self.sentences]\n",
    "\n",
    "    # identify numbers and replace them with a special token <NUM>\n",
    "    def replace_numbers(self):\n",
    "        number_regex = r'\\b\\d+\\b'  # Regular expression to match whole numbers\n",
    "        self.sentences = [re.sub(number_regex, '<NUM>', sentence) for sentence in self.sentences]\n",
    "    \n",
    "    def replace_urls(self):\n",
    "        url_regex = r'\\b(?:https?://|www\\.)\\S+\\b'\n",
    "        self.sentences = [re.sub(url_regex, '<URL>', sentence) for sentence in self.sentences]\n",
    "    \n",
    "    def replace_emails(self):\n",
    "        email_regex = r'\\b[A-Z0-9._%+-]+@[A-Z0-9.-]+\\.[A-Z]{2,}\\b'\n",
    "        self.sentences = [re.sub(email_regex, '<MAILID>', sentence, flags=re.IGNORECASE) for sentence in self.sentences]\n",
    "        \n",
    "    def replace_hashtags(self):\n",
    "        hashtag_regex = r'\\#\\w+'\n",
    "        self.sentences = [re.sub(hashtag_regex, '<HASHTAG>', sentence, flags=re.IGNORECASE) for sentence in self.sentences]\n",
    "    \n",
    "    def replace_mentions(self):\n",
    "        mention_regex = r'\\@\\w+'\n",
    "        self.sentences = [re.sub(mention_regex, '<MENTION>', sentence, flags=re.IGNORECASE) for sentence in self.sentences]\n",
    "    \n",
    "    def replace_percentages(self):\n",
    "        percent_regex = r'\\b\\d+(\\.\\d+)?%|\\b\\d+(\\.\\d+)?\\s?(percent|per cent|percentage)\\b'\n",
    "        self.sentences = [re.sub(percent_regex, '<PERCENT>', sentence, flags=re.IGNORECASE) for sentence in self.sentences]\n",
    "    \n",
    "    def replace_age_values(self):\n",
    "        age_regex = r'\\b\\d+-year-old|\\b\\d+\\syear(s)?\\sold\\b'\n",
    "        self.sentences = [re.sub(age_regex, '<AGE>', sentence, flags=re.IGNORECASE) for sentence in self.sentences]\n",
    "    \n",
    "    def replace_time_expressions(self):\n",
    "        time_regex = r'\\b\\d{1,2}:\\d{2}\\s?(AM|PM|am|pm)\\b'\n",
    "        self.sentences = [re.sub(time_regex, '<TIME>', sentence) for sentence in self.sentences]\n",
    "    \n",
    "    def replace_backslashes(self):\n",
    "        backslash_regex = r'\\\\'\n",
    "        self.sentences = [re.sub(backslash_regex, '', sentence) for sentence in self.sentences]\n",
    "        backtick_regex = r'`'\n",
    "        self.sentences = [re.sub(backtick_regex, '', sentence) for sentence in self.sentences]\n",
    "        self.sentences = [sentence.replace(\"''\", '') for sentence in self.sentences]\n",
    "        # Regular expression to find quoted text (simple version)\n",
    "        quotes_regex = r'\\\"[^\\\"]*\\\"'\n",
    "        self.sentences = [re.sub(quotes_regex, lambda m: m.group(0)[1:-1], sentence) for sentence in self.sentences]\n",
    "    \n",
    "    def process(self):\n",
    "        self.replace_backslashes()\n",
    "        # self.replace_urls()\n",
    "        # self.replace_emails()\n",
    "        # self.replace_hashtags()\n",
    "        # self.replace_mentions()\n",
    "\n",
    "        self.replace_percentages()\n",
    "        self.replace_age_values()\n",
    "        self.replace_time_expressions()\n",
    "        self.replace_numbers()\n",
    "\n",
    "        self.word_tokenizer()\n",
    "\n",
    "        self.lowercase()\n",
    "        self.remove_stop_words()\n",
    "        self.remove_punctuation()\n",
    "        \n",
    "        return self.sentences\n"
   ]
  },
  {
   "cell_type": "code",
   "execution_count": 42,
   "metadata": {},
   "outputs": [],
   "source": [
    "# Preprocess the sentences\n",
    "preprocess = Preprocess(sentences)\n",
    "sentences = preprocess.process()"
   ]
  },
  {
   "cell_type": "code",
   "execution_count": 43,
   "metadata": {},
   "outputs": [],
   "source": [
    "# Preprocess the test sentences\n",
    "preprocess = Preprocess(test_sentences)\n",
    "test_sentences = preprocess.process()"
   ]
  },
  {
   "cell_type": "code",
   "execution_count": 44,
   "metadata": {},
   "outputs": [],
   "source": [
    "# Preprocess the output sentences\n",
    "preprocess = Preprocess(output_sentences)\n",
    "output_sentences = preprocess.process()"
   ]
  },
  {
   "cell_type": "code",
   "execution_count": 45,
   "metadata": {},
   "outputs": [
    {
     "name": "stdout",
     "output_type": "stream",
     "text": [
      "20000\n",
      "[['bitcoin', 'goes', '$', '<num>', '<num>', 'morning', 'according', 'coindesk'], ['<num>', 'effect', 'widespread', 'dud', 'targets', 'two', 'face', 'attack', 'position', 'monsters', 'field'], ['many', 'brands', 'sellers', 'still', 'market'], ['latest', 'maintenance', 'release', 'samba', 'num_placeholder.num_placeholder'], ['watch', 'dodge', 'challenger', 'hellcat', 'gets', 'smoked', 'tesla', 'model', 'drag', 'strip'], ['moreover', 'devices', 'proven', 'help', 'consumers', 'another', 'company', 'information'], ['get', 'involved', 'help', 'movement'], ['iconic', 'bandanas', 'seen', 'among', 'types', 'people', 'animals', 'around', 'world'], ['grade', 'building', 'level', 'idea', 'impact', '?'], ['ignition', 'control', 'terex', 'tl60', 'wheel', 'loader']]\n"
     ]
    }
   ],
   "source": [
    "print(len(sentences))\n",
    "print(sentences[:10])"
   ]
  },
  {
   "cell_type": "code",
   "execution_count": 46,
   "metadata": {},
   "outputs": [],
   "source": [
    "class Vocabulary:\n",
    "    def __init__(self, freq_threshold=1):\n",
    "        # Initialize vocab with special tokens\n",
    "        self.itos = {0: \"<PAD>\", 1: \"<UNK>\", 2: \"<BOS>\", 3: \"<EOS>\"}\n",
    "        self.stoi = {v: k for k, v in self.itos.items()}\n",
    "        self.freq_threshold = freq_threshold\n",
    "\n",
    "    def __len__(self):\n",
    "        return len(self.itos)\n",
    "\n",
    "    def build_vocabulary(self, sentence_list):\n",
    "        frequencies = Counter(word for sentence in sentence_list for word in sentence)\n",
    "        idx = len(self.itos)  # Start indexing for new words from here\n",
    "        for word, freq in frequencies.items():\n",
    "            if freq >= self.freq_threshold:\n",
    "                self.stoi[word] = idx\n",
    "                self.itos[idx] = word\n",
    "                idx += 1\n",
    "\n",
    "    def numericalize(self, text):\n",
    "        return [self.stoi[word] if word in self.stoi else self.stoi[\"<UNK>\"] for word in text]"
   ]
  },
  {
   "cell_type": "code",
   "execution_count": 47,
   "metadata": {},
   "outputs": [],
   "source": [
    "# Create vocabulary object\n",
    "vocab = Vocabulary(freq_threshold=3)\n",
    "vocab.build_vocabulary(sentences)"
   ]
  },
  {
   "cell_type": "code",
   "execution_count": 48,
   "metadata": {},
   "outputs": [
    {
     "name": "stdout",
     "output_type": "stream",
     "text": [
      "7339\n",
      "[('<PAD>', 0), ('<UNK>', 1), ('<BOS>', 2), ('<EOS>', 3), ('bitcoin', 4), ('goes', 5), ('$', 6), ('<num>', 7), ('morning', 8), ('according', 9)]\n"
     ]
    }
   ],
   "source": [
    "# Check the length of the vocabulary\n",
    "print(len(vocab))\n",
    "# Print some of the tokens in the vocabulary\n",
    "print(list(vocab.stoi.items())[:10])"
   ]
  },
  {
   "cell_type": "code",
   "execution_count": 49,
   "metadata": {},
   "outputs": [],
   "source": [
    "def create_dataloader(sentences, vocab, sequence_length=50, batch_size=64):\n",
    "    # Initialize lists to hold numericalized sentences (X) and targets (y)\n",
    "    X = []\n",
    "    y = []\n",
    "\n",
    "    for sentence in sentences:\n",
    "        # Numericalize the sentence\n",
    "        numericalized = [vocab.stoi[\"<BOS>\"]] + vocab.numericalize(sentence) + [vocab.stoi[\"<EOS>\"]]\n",
    "        # Pad or truncate the sentence to the desired sequence length\n",
    "        padded = numericalized[:sequence_length] + [vocab.stoi[\"<PAD>\"]] * max(0, sequence_length - len(numericalized))\n",
    "        if len(padded) > sequence_length:\n",
    "            padded = padded[:sequence_length-1] + [vocab.stoi[\"<EOS>\"]]\n",
    "        \n",
    "        # Append to lists\n",
    "        X.append(padded[:-1])  # Input sequence\n",
    "        y.append(padded[1:])   # Target sequence (next word prediction)\n",
    "    \n",
    "    # Convert lists to tensors\n",
    "    X_tensor = torch.tensor(X, dtype=torch.long)\n",
    "    y_tensor = torch.tensor(y, dtype=torch.long)\n",
    "    \n",
    "    # Create a TensorDataset and DataLoader\n",
    "    dataset = TensorDataset(X_tensor, y_tensor)\n",
    "    dataloader = DataLoader(dataset, batch_size=batch_size, shuffle=True)\n",
    "    \n",
    "    return dataloader"
   ]
  },
  {
   "cell_type": "code",
   "execution_count": 50,
   "metadata": {},
   "outputs": [],
   "source": [
    "# Create a dataloader\n",
    "train_dataloader = create_dataloader(sentences, vocab, sequence_length=100, batch_size=32)"
   ]
  },
  {
   "cell_type": "markdown",
   "metadata": {},
   "source": [
    "## LSTM Model"
   ]
  },
  {
   "cell_type": "code",
   "execution_count": 51,
   "metadata": {},
   "outputs": [],
   "source": [
    "class BiLSTM(nn.Module):\n",
    "    def __init__(self, vocab_size, embedding_dim, hidden_dim, num_layers, dropout):\n",
    "        super(BiLSTM, self).__init__()\n",
    "        self.embedding = nn.Embedding(vocab_size, embedding_dim)\n",
    "        \n",
    "        # Embedding dropout\n",
    "        self.embedding_dropout = nn.Dropout(dropout)\n",
    "        \n",
    "        self.lstm = nn.LSTM(embedding_dim, hidden_dim, num_layers=num_layers,\n",
    "                            batch_first=True, dropout=dropout, bidirectional=True)\n",
    "        \n",
    "        # Dropout layer before the fully connected layer\n",
    "        self.fc_dropout = nn.Dropout(dropout)\n",
    "        \n",
    "        self.fc = nn.Linear(hidden_dim * 2, vocab_size)\n",
    "\n",
    "    def forward(self, text):\n",
    "        embedded = self.embedding_dropout(self.embedding(text))\n",
    "        lstm_out, _ = self.lstm(embedded)\n",
    "        \n",
    "        # Apply dropout to the outputs of the LSTM layer before passing to the fully connected layer\n",
    "        out = self.fc(self.fc_dropout(lstm_out))\n",
    "        return out"
   ]
  },
  {
   "cell_type": "code",
   "execution_count": 52,
   "metadata": {},
   "outputs": [],
   "source": [
    "# Hyperparameters\n",
    "vocab_size = len(vocab)\n",
    "embedding_dim = 100\n",
    "hidden_dim = 64\n",
    "num_layers = 2\n",
    "dropout = 0.2\n",
    "\n",
    "learning_rate = 0.001\n",
    "num_epochs = 10\n",
    "\n",
    "# Initialize the model\n",
    "model = BiLSTM(vocab_size, embedding_dim, hidden_dim, num_layers, dropout).to(device)\n",
    "\n",
    "# Define the loss function and optimizer\n",
    "criterion = nn.CrossEntropyLoss(ignore_index=vocab.stoi[\"<PAD>\"])\n",
    "optimizer = torch.optim.Adam(model.parameters(), lr=learning_rate)"
   ]
  },
  {
   "cell_type": "code",
   "execution_count": 53,
   "metadata": {},
   "outputs": [],
   "source": [
    "def train_lstm(model, train_dataloader, optimizer, criterion, device, num_epochs):\n",
    "    model.to(device)  # Ensure the model is on the correct device\n",
    "    \n",
    "    for epoch in range(num_epochs):\n",
    "        model.train()  # Set the model to training mode\n",
    "        total_loss = 0\n",
    "        \n",
    "        for inputs, targets in train_dataloader:\n",
    "            inputs, targets = inputs.to(device), targets.to(device)\n",
    "            \n",
    "            # Forward pass\n",
    "            outputs = model(inputs)\n",
    "            outputs = outputs.view(-1, outputs.shape[-1])  # Reshape for calculating loss\n",
    "            targets = targets.view(-1)\n",
    "            \n",
    "            # Calculate loss\n",
    "            loss = criterion(outputs, targets)\n",
    "            \n",
    "            # Backward pass and optimize\n",
    "            optimizer.zero_grad()\n",
    "            loss.backward()\n",
    "            optimizer.step()\n",
    "            \n",
    "            total_loss += loss.item()\n",
    "        \n",
    "        avg_loss = total_loss / len(train_dataloader)\n",
    "        print(f'Epoch {epoch+1}/{num_epochs}, Loss: {avg_loss:.4f}')"
   ]
  },
  {
   "cell_type": "code",
   "execution_count": 54,
   "metadata": {},
   "outputs": [
    {
     "name": "stdout",
     "output_type": "stream",
     "text": [
      "Epoch 1/10, Loss: 5.6528\n",
      "Epoch 2/10, Loss: 4.6681\n",
      "Epoch 3/10, Loss: 3.8321\n",
      "Epoch 4/10, Loss: 3.1250\n",
      "Epoch 5/10, Loss: 2.5638\n",
      "Epoch 6/10, Loss: 2.1085\n",
      "Epoch 7/10, Loss: 1.7414\n",
      "Epoch 8/10, Loss: 1.4422\n",
      "Epoch 9/10, Loss: 1.1987\n",
      "Epoch 10/10, Loss: 0.9970\n"
     ]
    }
   ],
   "source": [
    "train_lstm(model, train_dataloader, optimizer, criterion, device, num_epochs)"
   ]
  },
  {
   "cell_type": "markdown",
   "metadata": {},
   "source": [
    "## Perplexity"
   ]
  },
  {
   "cell_type": "code",
   "execution_count": 55,
   "metadata": {},
   "outputs": [],
   "source": [
    "# Function to calculate perplexity\n",
    "def sentence_perplexity(preprocessed_tokens, model, vocab, device):\n",
    "    # Ensure the sentence starts with <BOS> and ends with <EOS>\n",
    "    tokens = ['<BOS>'] + preprocessed_tokens + ['<EOS>']\n",
    "    \n",
    "    # Numericalize the tokens\n",
    "    numericalized_tokens = [vocab.stoi.get(token, vocab.stoi['<UNK>']) for token in tokens]\n",
    "    \n",
    "    # Convert to a tensor and add a batch dimension\n",
    "    input_tensor = torch.LongTensor(numericalized_tokens).unsqueeze(0).to(device)\n",
    "    \n",
    "    model.eval()  # Set the model to evaluation mode\n",
    "    \n",
    "    with torch.no_grad():  # Disable gradient calculation\n",
    "        output = model(input_tensor)\n",
    "        probabilities = F.softmax(output, dim=2)\n",
    "        \n",
    "        target_probabilities = probabilities[0, range(len(numericalized_tokens)-1), numericalized_tokens[1:]]\n",
    "        \n",
    "        log_probabilities = torch.log2(target_probabilities)\n",
    "        \n",
    "        # Calculate perplexity\n",
    "        perplexity = torch.pow(2, -log_probabilities.mean())\n",
    "\n",
    "    return perplexity.item()"
   ]
  },
  {
   "cell_type": "code",
   "execution_count": 21,
   "metadata": {},
   "outputs": [],
   "source": [
    "def average_and_median_perplexity(sentences, model, vocab, device):\n",
    "    perplexities = [sentence_perplexity(sentence, model, vocab, device) for sentence in sentences]\n",
    "    \n",
    "    average_perplexity = sum(perplexities) / len(perplexities)\n",
    "    median_perplexity = np.median(perplexities)\n",
    "    \n",
    "    return average_perplexity, median_perplexity"
   ]
  },
  {
   "cell_type": "code",
   "execution_count": 64,
   "metadata": {},
   "outputs": [],
   "source": [
    "# Function to plot perplexity distribution\n",
    "def plot_perplexity_distribution(sentences, model, vocab, device):\n",
    "    perplexities = []\n",
    "    \n",
    "    for sentence in sentences:\n",
    "        perplexity = sentence_perplexity(sentence, model, vocab, device)\n",
    "        perplexities.append(perplexity)\n",
    "    \n",
    "    # Plotting\n",
    "    plt.figure(figsize=(10, 6))\n",
    "    plt.hist(perplexities, bins=50, color='skyblue', edgecolor='black')\n",
    "    plt.title('Distribution of Sentence Perplexities')\n",
    "    plt.xlabel('Perplexity')\n",
    "    plt.ylabel('Frequency')\n",
    "    plt.grid(axis='y', alpha=0.75)\n",
    "    plt.savefig('lstm-input:perplexity_distribution.png')\n",
    "    plt.show()"
   ]
  },
  {
   "cell_type": "code",
   "execution_count": 56,
   "metadata": {},
   "outputs": [
    {
     "name": "stdout",
     "output_type": "stream",
     "text": [
      "Output Average Perplexity: 5.3777\n",
      "Output Median Perplexity: 3.6998\n"
     ]
    }
   ],
   "source": [
    "# Get the average perplexity of the training sentences\n",
    "train_avg, train_med = average_and_median_perplexity(output_sentences, model, vocab, device) \n",
    "print(f'Output Average Perplexity: {train_avg:.4f}')\n",
    "print(f'Output Median Perplexity: {train_med:.4f}')"
   ]
  },
  {
   "cell_type": "code",
   "execution_count": 62,
   "metadata": {},
   "outputs": [
    {
     "data": {
      "image/png": "[encoded data removed]",
      "text/plain": [
       "<Figure size 1000x600 with 1 Axes>"
      ]
     },
     "metadata": {},
     "output_type": "display_data"
    }
   ],
   "source": [
    "# Plot the perplexity distribution of the training sentences\n",
    "plot_perplexity_distribution(output_sentences, model, vocab, device)"
   ]
  },
  {
   "cell_type": "code",
   "execution_count": 57,
   "metadata": {},
   "outputs": [
    {
     "name": "stdout",
     "output_type": "stream",
     "text": [
      "Input Average Perplexity: 4.8270\n",
      "Input Median Perplexity: 3.4976\n"
     ]
    }
   ],
   "source": [
    "# Get the average perplexity of the test sentences\n",
    "test_avg, test_med = average_and_median_perplexity(test_sentences, model, vocab, device)\n",
    "print(f'Input Average Perplexity: {test_avg:.4f}')\n",
    "print(f'Input Median Perplexity: {test_med:.4f}')"
   ]
  },
  {
   "cell_type": "code",
   "execution_count": 65,
   "metadata": {},
   "outputs": [
    {
     "data": {
      "image/png": "[encoded data removed]",
      "text/plain": [
       "<Figure size 1000x600 with 1 Axes>"
      ]
     },
     "metadata": {},
     "output_type": "display_data"
    }
   ],
   "source": [
    "# Plot the perplexity distribution of the test sentences\n",
    "plot_perplexity_distribution(test_sentences, model, vocab, device)"
   ]
  },
  {
   "cell_type": "markdown",
   "metadata": {},
   "source": [
    "## Binary Classification"
   ]
  },
  {
   "cell_type": "code",
   "execution_count": 58,
   "metadata": {},
   "outputs": [],
   "source": [
    "# Take a mix of output and test sentences for binary classification task\n",
    "## Take 10k output sentences and 10k test sentences randomly\n",
    "output_sentences_bc = random.sample(output_sentences, 10000)\n",
    "test_sentences_bc = random.sample(test_sentences, 10000)\n",
    "\n",
    "# Create a binary classification dataset\n",
    "binary_classification_dataset = output_sentences_bc + test_sentences_bc\n",
    "binary_classification_labels = [1] * 10000 + [0] * 10000\n"
   ]
  },
  {
   "cell_type": "code",
   "execution_count": 59,
   "metadata": {},
   "outputs": [],
   "source": [
    "class PerplexityDataset(Dataset):\n",
    "    def __init__(self, sentences, labels, perplexity_function):\n",
    "        self.sentences = sentences\n",
    "        self.labels = labels\n",
    "        self.perplexity_function = perplexity_function\n",
    "\n",
    "    def __len__(self):\n",
    "        return len(self.sentences)\n",
    "\n",
    "    def __getitem__(self, idx):\n",
    "        sentence = self.sentences[idx]\n",
    "        label = self.labels[idx]\n",
    "        perplexity_score = self.perplexity_function(sentence)\n",
    "        return torch.tensor([perplexity_score], dtype=torch.float32), torch.tensor(label, dtype=torch.long)\n"
   ]
  },
  {
   "cell_type": "code",
   "execution_count": 60,
   "metadata": {},
   "outputs": [],
   "source": [
    "# Create train and test loaders for the binary classification task\n",
    "train_sentences, test_sentences, train_labels, test_labels = train_test_split(binary_classification_dataset, binary_classification_labels, test_size=0.2, random_state=42)\n",
    "\n",
    "train_dataset = PerplexityDataset(train_sentences, train_labels, lambda x: sentence_perplexity(x, model, vocab, device))\n",
    "test_dataset = PerplexityDataset(test_sentences, test_labels, lambda x: sentence_perplexity(x, model, vocab, device))\n",
    "\n",
    "train_loader = DataLoader(train_dataset, batch_size=64, shuffle=True)\n",
    "test_loader = DataLoader(test_dataset, batch_size=64, shuffle=False)"
   ]
  },
  {
   "cell_type": "code",
   "execution_count": 61,
   "metadata": {},
   "outputs": [],
   "source": [
    "class PerplexityClassifier(nn.Module):\n",
    "    def __init__(self):\n",
    "        super(PerplexityClassifier, self).__init__()\n",
    "        self.classifier = nn.Linear(1, 2)\n",
    "\n",
    "    def forward(self, x):\n",
    "        return self.classifier(x)"
   ]
  },
  {
   "cell_type": "code",
   "execution_count": 62,
   "metadata": {},
   "outputs": [],
   "source": [
    "# Hyperparameters\n",
    "learning_rate = 0.01\n",
    "num_epochs = 10\n",
    "\n",
    "# Initialize the model\n",
    "classifier = PerplexityClassifier().to(device)\n",
    "\n",
    "# Define the loss function and optimizer\n",
    "criterion = nn.CrossEntropyLoss()\n",
    "optimizer = torch.optim.Adam(classifier.parameters(), lr=learning_rate)"
   ]
  },
  {
   "cell_type": "code",
   "execution_count": 63,
   "metadata": {},
   "outputs": [],
   "source": [
    "def train_classifier(model, train_loader, criterion, optimizer, num_epochs=5):\n",
    "    model.to(device)\n",
    "    for epoch in range(num_epochs):\n",
    "        model.train()\n",
    "        total_loss = 0\n",
    "        for inputs, labels in train_loader:\n",
    "            inputs, labels = inputs.to(device), labels.to(device)\n",
    "            optimizer.zero_grad()\n",
    "            outputs = model(inputs)\n",
    "            loss = criterion(outputs, labels)\n",
    "            loss.backward()\n",
    "            optimizer.step()\n",
    "            total_loss += loss.item()\n",
    "\n",
    "        avg_loss = total_loss / len(train_loader)\n",
    "        print(f\"Epoch {epoch + 1}/{num_epochs}, Loss: {avg_loss:.4f}\")"
   ]
  },
  {
   "cell_type": "code",
   "execution_count": 64,
   "metadata": {},
   "outputs": [
    {
     "name": "stdout",
     "output_type": "stream",
     "text": [
      "Epoch 1/10, Loss: 1.3484\n",
      "Epoch 2/10, Loss: 0.6940\n",
      "Epoch 3/10, Loss: 0.6981\n",
      "Epoch 4/10, Loss: 0.6945\n",
      "Epoch 5/10, Loss: 0.6952\n",
      "Epoch 6/10, Loss: 0.6961\n",
      "Epoch 7/10, Loss: 0.6962\n",
      "Epoch 8/10, Loss: 0.6950\n",
      "Epoch 9/10, Loss: 0.6976\n",
      "Epoch 10/10, Loss: 0.6954\n"
     ]
    }
   ],
   "source": [
    "# Call the training function\n",
    "train_classifier(classifier, train_loader, criterion, optimizer, num_epochs)"
   ]
  },
  {
   "cell_type": "code",
   "execution_count": 65,
   "metadata": {},
   "outputs": [],
   "source": [
    "def test(model, test_loader, criterion):\n",
    "    model.to(device)\n",
    "    model.eval()\n",
    "    all_labels = []\n",
    "    all_preds = []\n",
    "    all_probs = []\n",
    "    total_loss = 0\n",
    "\n",
    "    with torch.no_grad():\n",
    "        for inputs, labels in test_loader:\n",
    "            inputs, labels = inputs.to(device), labels.to(device)\n",
    "            outputs = model(inputs)\n",
    "            loss = criterion(outputs, labels)\n",
    "            total_loss += loss.item()\n",
    "            _, predicted = torch.max(outputs, 1)\n",
    "            all_labels.extend(labels.cpu().numpy())\n",
    "            all_preds.extend(predicted.cpu().numpy())\n",
    "            all_probs.extend(outputs[:, 1].cpu().numpy())\n",
    "\n",
    "    # Compute Metrics\n",
    "    accuracy = accuracy_score(all_labels, all_preds)\n",
    "    f1 = f1_score(all_labels, all_preds, average='binary')\n",
    "    precision = precision_score(all_labels, all_preds, average='binary')\n",
    "    recall = recall_score(all_labels, all_preds, average='binary')\n",
    "    mcc = matthews_corrcoef(all_labels, all_preds)\n",
    "    conf_matrix = confusion_matrix(all_labels, all_preds)\n",
    "\n",
    "    # ROC Curve and AUC\n",
    "    fpr, tpr, _ = roc_curve(all_labels, all_probs)\n",
    "    roc_auc = auc(fpr, tpr)\n",
    "\n",
    "    print(f\"Validation Loss: {total_loss / len(test_loader):.4f}\")\n",
    "    print(f\"Accuracy: {accuracy * 100:.2f}%\")\n",
    "    print(f\"F1 Score: {f1:.4f}\")\n",
    "    print(f\"Precision: {precision:.4f}\")\n",
    "    print(f\"Recall: {recall:.4f}\")\n",
    "    print(f\"Matthews Correlation Coefficient: {mcc:.4f}\")\n",
    "    print(f\"Confusion Matrix:\\n{conf_matrix}\")\n",
    "    print(f\"AUC: {roc_auc:.4f}\")\n",
    "\n",
    "    # Plot ROC Curve\n",
    "    plt.figure()\n",
    "    plt.plot(fpr, tpr, color='blue', lw=2, label=f'ROC curve (AUC = {roc_auc:.4f})')\n",
    "    plt.plot([0, 1], [0, 1], color='red', lw=2, linestyle='--')\n",
    "    plt.xlabel('False Positive Rate')\n",
    "    plt.ylabel('True Positive Rate')\n",
    "    plt.title('Receiver Operating Characteristic')\n",
    "    plt.legend(loc=\"lower right\")\n",
    "    plt.show()"
   ]
  },
  {
   "cell_type": "code",
   "execution_count": 66,
   "metadata": {},
   "outputs": [
    {
     "name": "stdout",
     "output_type": "stream",
     "text": [
      "Validation Loss: 0.6924\n",
      "Accuracy: 51.20%\n",
      "F1 Score: 0.1993\n",
      "Precision: 0.5800\n",
      "Recall: 0.1204\n",
      "Matthews Correlation Coefficient: 0.0515\n",
      "Confusion Matrix:\n",
      "[[1805  176]\n",
      " [1776  243]]\n",
      "AUC: 0.5417\n"
     ]
    },
    {
     "data": {
      "image/png": "[encoded data removed]",
      "text/plain": [
       "<Figure size 640x480 with 1 Axes>"
      ]
     },
     "metadata": {},
     "output_type": "display_data"
    }
   ],
   "source": [
    "# Call the test function\n",
    "test(classifier, test_loader, criterion)"
   ]
  },
  {
   "cell_type": "code",
   "execution_count": null,
   "metadata": {},
   "outputs": [],
   "source": []
  }
 ],
 "metadata": {
  "kernelspec": {
   "display_name": "Python 3",
   "language": "python",
   "name": "python3"
  },
  "language_info": {
   "codemirror_mode": {
    "name": "ipython",
    "version": 3
   },
   "file_extension": ".py",
   "mimetype": "text/x-python",
   "name": "python",
   "nbconvert_exporter": "python",
   "pygments_lexer": "ipython3",
   "version": "3.12.2"
  }
 },
 "nbformat": 4,
 "nbformat_minor": 2
}
