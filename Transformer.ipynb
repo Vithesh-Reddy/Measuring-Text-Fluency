{
 "cells": [
  {
   "cell_type": "code",
   "execution_count": 1,
   "metadata": {},
   "outputs": [
    {
     "name": "stderr",
     "output_type": "stream",
     "text": [
      "/home2/autotune_vits/miniconda3/envs/nlp_env/lib/python3.12/site-packages/tqdm/auto.py:21: TqdmWarning: IProgress not found. Please update jupyter and ipywidgets. See https://ipywidgets.readthedocs.io/en/stable/user_install.html\n",
      "  from .autonotebook import tqdm as notebook_tqdm\n"
     ]
    }
   ],
   "source": [
    "import numpy as np\n",
    "import torch\n",
    "import torch.cuda\n",
    "import csv\n",
    "import matplotlib.pyplot as plt\n",
    "from tqdm import tqdm\n",
    "from transformers import AutoTokenizer, T5Tokenizer, T5ForConditionalGeneration,AutoModelForMaskedLM"
   ]
  },
  {
   "cell_type": "code",
   "execution_count": 2,
   "metadata": {},
   "outputs": [
    {
     "name": "stdout",
     "output_type": "stream",
     "text": [
      "cuda\n",
      "NVIDIA GeForce RTX 2080 Ti\n"
     ]
    }
   ],
   "source": [
    "# Check if GPU is available\n",
    "device = torch.device('cuda' if torch.cuda.is_available() else 'cpu')\n",
    "print(device)\n",
    "print(torch.cuda.get_device_name(0))"
   ]
  },
  {
   "cell_type": "code",
   "execution_count": 3,
   "metadata": {},
   "outputs": [],
   "source": [
    "def read_csv_file_input(file_path):\n",
    "    data = []\n",
    "    with open(file_path, 'r',encoding='utf-8') as csvfile:\n",
    "        reader = csv.DictReader(csvfile)\n",
    "        for row in reader:\n",
    "            if len(row['input']) < 100 :\n",
    "                data.append(row['input'])\n",
    "            if len(data) >= 100000:\n",
    "                break\n",
    "    return data\n",
    "\n",
    "def read_csv_file_output(file_path):\n",
    "    data = []\n",
    "    with open(file_path, 'r', encoding='utf-8') as csvfile:\n",
    "        reader = csv.DictReader(csvfile)\n",
    "        for row in reader:\n",
    "            # Check if 'output' is not NULL (not an empty string or None)\n",
    "            if row['output'] and len(row['output']) < 100:\n",
    "                data.append(row['output'])\n",
    "            if len(data) >= 100000:\n",
    "                break\n",
    "    return data\n",
    "\n",
    "def evaluate_perplexity(curr_sentence,rb_model,Tokenizer):\n",
    "\n",
    "    encoded_sentence = Tokenizer.encode(curr_sentence,return_tensors = 'pt').to(device)\n",
    "\n",
    "    dim = encoded_sentence.size(-1) - 1 # removing start and end\n",
    "    final_encoded = encoded_sentence.repeat(dim-1,1).to(device)\n",
    "\n",
    "\n",
    "    mask_tensor = torch.ones(dim).to(device)\n",
    "\n",
    "    mask_tensor = mask_tensor.diag(1)[:-2]\n",
    "\n",
    "    mask_tensor = final_encoded.masked_fill(mask_tensor == 1,Tokenizer.mask_token_id)\n",
    "\n",
    "    labels = final_encoded.masked_fill(mask_tensor != Tokenizer.mask_token_id,-100)\n",
    "\n",
    "    with torch.no_grad():\n",
    "        outputs = rb_model(input_ids=mask_tensor, labels=labels)\n",
    "        loss = outputs.loss\n",
    "\n",
    "    # Calculate and return perplexity\n",
    "    perplexity = np.exp(loss.item())\n",
    "    return perplexity\n"
   ]
  },
  {
   "cell_type": "code",
   "execution_count": null,
   "metadata": {},
   "outputs": [],
   "source": [
    "Model_name = 'roberta-base'\n",
    "\n",
    "#using a pre-trained tokenizer\n",
    "Tokenizer = AutoTokenizer.from_pretrained(Model_name)\n",
    "\n",
    "rb_model =  AutoModelForMaskedLM.from_pretrained(Model_name).to(device)\n",
    "\n",
    "file_path = './C4_200M_1M.csv'\n",
    "data = read_csv_file_input(file_path)\n",
    "print(len(data))"
   ]
  },
  {
   "cell_type": "code",
   "execution_count": null,
   "metadata": {},
   "outputs": [],
   "source": [
    "results = []\n",
    "\n",
    "for i in tqdm(range(0, len(data)), desc=\"Progress Bar\"):\n",
    "    perp = evaluate_perplexity(curr_sentence=data[i], rb_model=rb_model, Tokenizer=Tokenizer)\n",
    "\n",
    "    results.append(perp)\n",
    "\n",
    "results = np.array(results)\n",
    "\n",
    "print(\"Mean Perplexity Input:\", np.mean(results))\n",
    "print(\"Median Perplexity Input:\", np.median(results))"
   ]
  },
  {
   "cell_type": "code",
   "execution_count": null,
   "metadata": {},
   "outputs": [],
   "source": [
    "# Plot histogram of perplexity scores\n",
    "plt.hist(results, bins=250, log=True)\n",
    "plt.xlabel(\"Perplexity\")\n",
    "plt.ylabel(\"Frequency (log scale)\")\n",
    "plt.savefig(\"Transformer-input-wrong.png\")\n",
    "plt.show()"
   ]
  },
  {
   "cell_type": "code",
   "execution_count": 4,
   "metadata": {},
   "outputs": [
    {
     "name": "stdout",
     "output_type": "stream",
     "text": [
      "100000\n"
     ]
    }
   ],
   "source": [
    "Model_name = 'roberta-base'\n",
    "\n",
    "#using a pre-trained tokenizer\n",
    "Tokenizer = AutoTokenizer.from_pretrained(Model_name)\n",
    "\n",
    "rb_model =  AutoModelForMaskedLM.from_pretrained(Model_name).to(device)\n",
    "\n",
    "file_path = './C4_200M_1M.csv'\n",
    "data = read_csv_file_output(file_path)\n",
    "print(len(data))"
   ]
  },
  {
   "cell_type": "code",
   "execution_count": 5,
   "metadata": {},
   "outputs": [
    {
     "name": "stderr",
     "output_type": "stream",
     "text": [
      "Progress Bar: 100%|██████████| 100000/100000 [22:07<00:00, 75.33it/s]"
     ]
    },
    {
     "name": "stdout",
     "output_type": "stream",
     "text": [
      "Mean Perplexity Output: 102.45619526111389\n",
      "Median Perplexity Output: 10.108536263758932\n"
     ]
    },
    {
     "name": "stderr",
     "output_type": "stream",
     "text": [
      "\n"
     ]
    }
   ],
   "source": [
    "results = []\n",
    "\n",
    "for i in tqdm(range(0, len(data)), desc=\"Progress Bar\"):\n",
    "    perp = evaluate_perplexity(curr_sentence=data[i], rb_model=rb_model, Tokenizer=Tokenizer)\n",
    "\n",
    "    results.append(perp)\n",
    "\n",
    "results = np.array(results)\n",
    "\n",
    "print(\"Mean Perplexity Output:\", np.mean(results))\n",
    "print(\"Median Perplexity Output:\", np.median(results))"
   ]
  },
  {
   "cell_type": "code",
   "execution_count": 6,
   "metadata": {},
   "outputs": [
    {
     "data": {
      "image/png": "[encoded data removed]",
      "text/plain": [
       "<Figure size 640x480 with 1 Axes>"
      ]
     },
     "metadata": {},
     "output_type": "display_data"
    }
   ],
   "source": [
    "# Plot histogram of perplexity scores\n",
    "plt.hist(results, bins=250, log=True)\n",
    "plt.xlabel(\"Perplexity\")\n",
    "plt.ylabel(\"Frequency (log scale)\")\n",
    "plt.savefig(\"Transformer-output-correct.png\")\n",
    "plt.show()"
   ]
  },
  {
   "cell_type": "code",
   "execution_count": null,
   "metadata": {},
   "outputs": [],
   "source": []
  }
 ],
 "metadata": {
  "kernelspec": {
   "display_name": "nlp_env",
   "language": "python",
   "name": "python3"
  },
  "language_info": {
   "codemirror_mode": {
    "name": "ipython",
    "version": 3
   },
   "file_extension": ".py",
   "mimetype": "text/x-python",
   "name": "python",
   "nbconvert_exporter": "python",
   "pygments_lexer": "ipython3",
   "version": "3.12.2"
  }
 },
 "nbformat": 4,
 "nbformat_minor": 2
}
