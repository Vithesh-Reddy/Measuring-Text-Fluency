{
 "cells": [
  {
   "cell_type": "code",
   "execution_count": 1,
   "metadata": {},
   "outputs": [
    {
     "name": "stderr",
     "output_type": "stream",
     "text": [
      "/home2/autotune_vits/miniconda3/envs/nlp_env/lib/python3.12/site-packages/tqdm/auto.py:21: TqdmWarning: IProgress not found. Please update jupyter and ipywidgets. See https://ipywidgets.readthedocs.io/en/stable/user_install.html\n",
      "  from .autonotebook import tqdm as notebook_tqdm\n"
     ]
    }
   ],
   "source": [
    "import numpy as np\n",
    "import torch\n",
    "import torch.cuda\n",
    "import random\n",
    "import csv\n",
    "import matplotlib.pyplot as plt\n",
    "from tqdm import tqdm\n",
    "from transformers import AutoTokenizer, T5Tokenizer, T5ForConditionalGeneration,AutoModelForMaskedLM\n",
    "import torch.nn as nn\n",
    "import torch.nn.functional as F\n",
    "from torch.utils.data import Dataset, DataLoader, TensorDataset\n",
    "from sklearn.model_selection import train_test_split\n",
    "from sklearn.metrics import (\n",
    "    accuracy_score, f1_score, precision_score, recall_score, confusion_matrix,\n",
    "    roc_curve, auc, matthews_corrcoef\n",
    ")"
   ]
  },
  {
   "cell_type": "code",
   "execution_count": 2,
   "metadata": {},
   "outputs": [
    {
     "name": "stdout",
     "output_type": "stream",
     "text": [
      "cuda\n",
      "NVIDIA GeForce RTX 2080 Ti\n"
     ]
    }
   ],
   "source": [
    "# Check if GPU is available\n",
    "device = torch.device('cuda' if torch.cuda.is_available() else 'cpu')\n",
    "print(device)\n",
    "print(torch.cuda.get_device_name(0))"
   ]
  },
  {
   "cell_type": "code",
   "execution_count": 3,
   "metadata": {},
   "outputs": [],
   "source": [
    "def read_csv_file_input(file_path):\n",
    "    data = []\n",
    "    with open(file_path, 'r',encoding='utf-8') as csvfile:\n",
    "        reader = csv.DictReader(csvfile)\n",
    "        for row in reader:\n",
    "            if len(row['input']) < 100 :\n",
    "                data.append(row['input'])\n",
    "            if len(data) >= 100000:\n",
    "                break\n",
    "    return data\n",
    "\n",
    "def read_csv_file_output(file_path):\n",
    "    data = []\n",
    "    with open(file_path, 'r', encoding='utf-8') as csvfile:\n",
    "        reader = csv.DictReader(csvfile)\n",
    "        for row in reader:\n",
    "            # Check if 'output' is not NULL (not an empty string or None)\n",
    "            if row['output'] and len(row['output']) < 100:\n",
    "                data.append(row['output'])\n",
    "            if len(data) >= 100000:\n",
    "                break\n",
    "    return data\n",
    "\n",
    "def evaluate_perplexity(curr_sentence,rb_model,Tokenizer):\n",
    "\n",
    "    encoded_sentence = Tokenizer.encode(curr_sentence,return_tensors = 'pt').to(device)\n",
    "\n",
    "    dim = encoded_sentence.size(-1) - 1 # removing start and end\n",
    "    final_encoded = encoded_sentence.repeat(dim-1,1).to(device)\n",
    "\n",
    "\n",
    "    mask_tensor = torch.ones(dim).to(device)\n",
    "\n",
    "    mask_tensor = mask_tensor.diag(1)[:-2]\n",
    "\n",
    "    mask_tensor = final_encoded.masked_fill(mask_tensor == 1,Tokenizer.mask_token_id)\n",
    "\n",
    "    labels = final_encoded.masked_fill(mask_tensor != Tokenizer.mask_token_id,-100)\n",
    "\n",
    "    with torch.no_grad():\n",
    "        outputs = rb_model(input_ids=mask_tensor, labels=labels)\n",
    "        loss = outputs.loss\n",
    "\n",
    "    # Calculate and return perplexity\n",
    "    perplexity = np.exp(loss.item())\n",
    "    return perplexity\n"
   ]
  },
  {
   "cell_type": "code",
   "execution_count": 4,
   "metadata": {},
   "outputs": [
    {
     "name": "stdout",
     "output_type": "stream",
     "text": [
      "100000\n"
     ]
    }
   ],
   "source": [
    "Model_name = 'roberta-base'\n",
    "\n",
    "#using a pre-trained tokenizer\n",
    "Tokenizer = AutoTokenizer.from_pretrained(Model_name)\n",
    "\n",
    "rb_model =  AutoModelForMaskedLM.from_pretrained(Model_name).to(device)\n",
    "\n",
    "file_path = './C4_200M_1M.csv'\n",
    "data = read_csv_file_input(file_path)\n",
    "print(len(data))"
   ]
  },
  {
   "cell_type": "code",
   "execution_count": 5,
   "metadata": {},
   "outputs": [
    {
     "name": "stderr",
     "output_type": "stream",
     "text": [
      "Progress Bar: 100%|██████████| 100000/100000 [22:06<00:00, 75.37it/s]"
     ]
    },
    {
     "name": "stdout",
     "output_type": "stream",
     "text": [
      "Mean Perplexity Input: 594.5946261854657\n",
      "Median Perplexity Input: 55.35531755902507\n"
     ]
    },
    {
     "name": "stderr",
     "output_type": "stream",
     "text": [
      "\n"
     ]
    }
   ],
   "source": [
    "results = []\n",
    "\n",
    "for i in tqdm(range(0, len(data)), desc=\"Progress Bar\"):\n",
    "    perp = evaluate_perplexity(curr_sentence=data[i], rb_model=rb_model, Tokenizer=Tokenizer)\n",
    "\n",
    "    results.append(perp)\n",
    "\n",
    "results = np.array(results)\n",
    "\n",
    "print(\"Mean Perplexity Input:\", np.mean(results))\n",
    "print(\"Median Perplexity Input:\", np.median(results))"
   ]
  },
  {
   "cell_type": "code",
   "execution_count": 6,
   "metadata": {},
   "outputs": [
    {
     "data": {
      "image/png": "[encoded data removed]",
      "text/plain": [
       "<Figure size 640x480 with 1 Axes>"
      ]
     },
     "metadata": {},
     "output_type": "display_data"
    }
   ],
   "source": [
    "# Plot histogram of perplexity scores\n",
    "plt.hist(results, bins=250, log=True)\n",
    "plt.xlabel(\"Perplexity\")\n",
    "plt.ylabel(\"Frequency (log scale)\")\n",
    "plt.savefig(\"Transformer-input-wrong.png\")\n",
    "plt.show()"
   ]
  },
  {
   "cell_type": "code",
   "execution_count": 4,
   "metadata": {},
   "outputs": [
    {
     "name": "stdout",
     "output_type": "stream",
     "text": [
      "100000\n"
     ]
    }
   ],
   "source": [
    "Model_name = 'roberta-base'\n",
    "\n",
    "#using a pre-trained tokenizer\n",
    "Tokenizer = AutoTokenizer.from_pretrained(Model_name)\n",
    "\n",
    "rb_model =  AutoModelForMaskedLM.from_pretrained(Model_name).to(device)\n",
    "\n",
    "file_path = './C4_200M_1M.csv'\n",
    "data = read_csv_file_output(file_path)\n",
    "print(len(data))"
   ]
  },
  {
   "cell_type": "code",
   "execution_count": 5,
   "metadata": {},
   "outputs": [
    {
     "name": "stderr",
     "output_type": "stream",
     "text": [
      "Progress Bar: 100%|██████████| 100000/100000 [22:07<00:00, 75.33it/s]"
     ]
    },
    {
     "name": "stdout",
     "output_type": "stream",
     "text": [
      "Mean Perplexity Output: 102.45619526111389\n",
      "Median Perplexity Output: 10.108536263758932\n"
     ]
    },
    {
     "name": "stderr",
     "output_type": "stream",
     "text": [
      "\n"
     ]
    }
   ],
   "source": [
    "results = []\n",
    "\n",
    "for i in tqdm(range(0, len(data)), desc=\"Progress Bar\"):\n",
    "    perp = evaluate_perplexity(curr_sentence=data[i], rb_model=rb_model, Tokenizer=Tokenizer)\n",
    "\n",
    "    results.append(perp)\n",
    "\n",
    "results = np.array(results)\n",
    "\n",
    "print(\"Mean Perplexity Output:\", np.mean(results))\n",
    "print(\"Median Perplexity Output:\", np.median(results))"
   ]
  },
  {
   "cell_type": "code",
   "execution_count": 6,
   "metadata": {},
   "outputs": [
    {
     "data": {
      "image/png": "[encoded data removed]",
      "text/plain": [
       "<Figure size 640x480 with 1 Axes>"
      ]
     },
     "metadata": {},
     "output_type": "display_data"
    }
   ],
   "source": [
    "# Plot histogram of perplexity scores\n",
    "plt.hist(results, bins=250, log=True)\n",
    "plt.xlabel(\"Perplexity\")\n",
    "plt.ylabel(\"Frequency (log scale)\")\n",
    "plt.savefig(\"Transformer-output-correct.png\")\n",
    "plt.show()"
   ]
  },
  {
   "cell_type": "markdown",
   "metadata": {},
   "source": [
    "## Binary Classification Task"
   ]
  },
  {
   "cell_type": "code",
   "execution_count": 5,
   "metadata": {},
   "outputs": [],
   "source": [
    "output_sentences = read_csv_file_output(file_path)\n",
    "test_sentences = read_csv_file_input(file_path)"
   ]
  },
  {
   "cell_type": "code",
   "execution_count": 6,
   "metadata": {},
   "outputs": [],
   "source": [
    "# Take a mix of output and test sentences for binary classification task\n",
    "## Take 10k output sentences and 10k test sentences randomly\n",
    "output_sentences_bc = random.sample(output_sentences, 10000)\n",
    "test_sentences_bc = random.sample(test_sentences, 10000)\n",
    "\n",
    "# Create a binary classification dataset\n",
    "binary_classification_dataset = output_sentences_bc + test_sentences_bc\n",
    "binary_classification_labels = [1] * 10000 + [0] * 10000\n"
   ]
  },
  {
   "cell_type": "code",
   "execution_count": 7,
   "metadata": {},
   "outputs": [],
   "source": [
    "class PerplexityDataset(Dataset):\n",
    "    def __init__(self, sentences, labels, perplexity_function):\n",
    "        self.sentences = sentences\n",
    "        self.labels = labels\n",
    "        self.perplexity_function = perplexity_function\n",
    "\n",
    "    def __len__(self):\n",
    "        return len(self.sentences)\n",
    "\n",
    "    def __getitem__(self, idx):\n",
    "        sentence = self.sentences[idx]\n",
    "        label = self.labels[idx]\n",
    "        perplexity_score = self.perplexity_function(sentence)\n",
    "        return torch.tensor([perplexity_score], dtype=torch.float32), torch.tensor(label, dtype=torch.long)\n"
   ]
  },
  {
   "cell_type": "code",
   "execution_count": 8,
   "metadata": {},
   "outputs": [],
   "source": [
    "# Create train and test loaders for the binary classification task\n",
    "train_sentences, test_sentences, train_labels, test_labels = train_test_split(binary_classification_dataset, binary_classification_labels, test_size=0.2, random_state=42)\n",
    "\n",
    "train_dataset = PerplexityDataset(train_sentences, train_labels, lambda x: evaluate_perplexity(curr_sentence=x, rb_model=rb_model, Tokenizer=Tokenizer))\n",
    "test_dataset = PerplexityDataset(test_sentences, test_labels, lambda x: evaluate_perplexity(curr_sentence=x, rb_model=rb_model, Tokenizer=Tokenizer))\n",
    "\n",
    "train_loader = DataLoader(train_dataset, batch_size=64, shuffle=True)\n",
    "test_loader = DataLoader(test_dataset, batch_size=64, shuffle=False)"
   ]
  },
  {
   "cell_type": "code",
   "execution_count": 9,
   "metadata": {},
   "outputs": [],
   "source": [
    "class PerplexityClassifier(nn.Module):\n",
    "    def __init__(self):\n",
    "        super(PerplexityClassifier, self).__init__()\n",
    "        self.classifier = nn.Linear(1, 2)\n",
    "\n",
    "    def forward(self, x):\n",
    "        return self.classifier(x)"
   ]
  },
  {
   "cell_type": "code",
   "execution_count": 10,
   "metadata": {},
   "outputs": [],
   "source": [
    "# Hyperparameters\n",
    "learning_rate = 0.01\n",
    "num_epochs = 10\n",
    "\n",
    "# Initialize the model\n",
    "classifier = PerplexityClassifier().to(device)\n",
    "\n",
    "# Define the loss function and optimizer\n",
    "criterion = nn.CrossEntropyLoss()\n",
    "optimizer = torch.optim.Adam(classifier.parameters(), lr=learning_rate)"
   ]
  },
  {
   "cell_type": "code",
   "execution_count": 11,
   "metadata": {},
   "outputs": [],
   "source": [
    "def train_classifier(model, train_loader, criterion, optimizer, num_epochs=5):\n",
    "    model.to(device)\n",
    "    for epoch in range(num_epochs):\n",
    "        model.train()\n",
    "        total_loss = 0\n",
    "        for inputs, labels in train_loader:\n",
    "            inputs, labels = inputs.to(device), labels.to(device)\n",
    "            optimizer.zero_grad()\n",
    "            outputs = model(inputs)\n",
    "            loss = criterion(outputs, labels)\n",
    "            loss.backward()\n",
    "            optimizer.step()\n",
    "            total_loss += loss.item()\n",
    "\n",
    "        avg_loss = total_loss / len(train_loader)\n",
    "        print(f\"Epoch {epoch + 1}/{num_epochs}, Loss: {avg_loss:.4f}\")"
   ]
  },
  {
   "cell_type": "code",
   "execution_count": 12,
   "metadata": {},
   "outputs": [
    {
     "name": "stdout",
     "output_type": "stream",
     "text": [
      "Epoch 1/10, Loss: 9.3336\n",
      "Epoch 2/10, Loss: 2.9835\n",
      "Epoch 3/10, Loss: 3.9548\n",
      "Epoch 4/10, Loss: 1.3886\n",
      "Epoch 5/10, Loss: 1.0893\n",
      "Epoch 6/10, Loss: 1.2245\n",
      "Epoch 7/10, Loss: 1.0347\n",
      "Epoch 8/10, Loss: 1.9796\n",
      "Epoch 9/10, Loss: 2.9883\n",
      "Epoch 10/10, Loss: 12.6122\n"
     ]
    }
   ],
   "source": [
    "# Call the training function\n",
    "train_classifier(classifier, train_loader, criterion, optimizer, num_epochs)"
   ]
  },
  {
   "cell_type": "code",
   "execution_count": 13,
   "metadata": {},
   "outputs": [],
   "source": [
    "def test(model, test_loader, criterion):\n",
    "    model.to(device)\n",
    "    model.eval()\n",
    "    all_labels = []\n",
    "    all_preds = []\n",
    "    all_probs = []\n",
    "    total_loss = 0\n",
    "\n",
    "    with torch.no_grad():\n",
    "        for inputs, labels in test_loader:\n",
    "            inputs, labels = inputs.to(device), labels.to(device)\n",
    "            outputs = model(inputs)\n",
    "            loss = criterion(outputs, labels)\n",
    "            total_loss += loss.item()\n",
    "            _, predicted = torch.max(outputs, 1)\n",
    "            all_labels.extend(labels.cpu().numpy())\n",
    "            all_preds.extend(predicted.cpu().numpy())\n",
    "            all_probs.extend(outputs[:, 1].cpu().numpy())\n",
    "\n",
    "    # Compute Metrics\n",
    "    accuracy = accuracy_score(all_labels, all_preds)\n",
    "    f1 = f1_score(all_labels, all_preds, average='binary')\n",
    "    precision = precision_score(all_labels, all_preds, average='binary')\n",
    "    recall = recall_score(all_labels, all_preds, average='binary')\n",
    "    mcc = matthews_corrcoef(all_labels, all_preds)\n",
    "    conf_matrix = confusion_matrix(all_labels, all_preds)\n",
    "\n",
    "    # ROC Curve and AUC\n",
    "    fpr, tpr, _ = roc_curve(all_labels, all_probs)\n",
    "    roc_auc = auc(fpr, tpr)\n",
    "\n",
    "    print(f\"Validation Loss: {total_loss / len(test_loader):.4f}\")\n",
    "    print(f\"Accuracy: {accuracy * 100:.2f}%\")\n",
    "    print(f\"F1 Score: {f1:.4f}\")\n",
    "    print(f\"Precision: {precision:.4f}\")\n",
    "    print(f\"Recall: {recall:.4f}\")\n",
    "    print(f\"Matthews Correlation Coefficient: {mcc:.4f}\")\n",
    "    print(f\"Confusion Matrix:\\n{conf_matrix}\")\n",
    "    print(f\"AUC: {roc_auc:.4f}\")\n",
    "\n",
    "    # Plot ROC Curve\n",
    "    plt.figure()\n",
    "    plt.plot(fpr, tpr, color='blue', lw=2, label=f'ROC curve (AUC = {roc_auc:.4f})')\n",
    "    plt.plot([0, 1], [0, 1], color='red', lw=2, linestyle='--')\n",
    "    plt.xlabel('False Positive Rate')\n",
    "    plt.ylabel('True Positive Rate')\n",
    "    plt.title('Receiver Operating Characteristic')\n",
    "    plt.legend(loc=\"lower right\")\n",
    "    plt.show()"
   ]
  },
  {
   "cell_type": "code",
   "execution_count": 14,
   "metadata": {},
   "outputs": [
    {
     "name": "stdout",
     "output_type": "stream",
     "text": [
      "Validation Loss: 8.7780\n",
      "Accuracy: 71.40%\n",
      "F1 Score: 0.7245\n",
      "Precision: 0.7051\n",
      "Recall: 0.7449\n",
      "Matthews Correlation Coefficient: 0.4283\n",
      "Confusion Matrix:\n",
      "[[1352  629]\n",
      " [ 515 1504]]\n",
      "AUC: 0.7846\n"
     ]
    },
    {
     "data": {
      "image/png": "[encoded data removed]",
      "text/plain": [
       "<Figure size 640x480 with 1 Axes>"
      ]
     },
     "metadata": {},
     "output_type": "display_data"
    }
   ],
   "source": [
    "# Call the test function\n",
    "test(classifier, test_loader, criterion)"
   ]
  },
  {
   "cell_type": "code",
   "execution_count": null,
   "metadata": {},
   "outputs": [],
   "source": []
  }
 ],
 "metadata": {
  "kernelspec": {
   "display_name": "nlp_env",
   "language": "python",
   "name": "python3"
  },
  "language_info": {
   "codemirror_mode": {
    "name": "ipython",
    "version": 3
   },
   "file_extension": ".py",
   "mimetype": "text/x-python",
   "name": "python",
   "nbconvert_exporter": "python",
   "pygments_lexer": "ipython3",
   "version": "3.12.2"
  }
 },
 "nbformat": 4,
 "nbformat_minor": 2
}
