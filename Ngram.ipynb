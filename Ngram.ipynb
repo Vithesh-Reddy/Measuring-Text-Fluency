{
 "cells": [
  {
   "cell_type": "code",
   "execution_count": 18,
   "metadata": {},
   "outputs": [],
   "source": [
    "import re\n",
    "import numpy as np\n",
    "from pprint import pprint\n",
    "import random\n",
    "import time\n",
    "import sys\n",
    "from alive_progress import alive_bar\n",
    "import copy\n",
    "import csv\n",
    "import matplotlib.pyplot as plt\n",
    "import torch\n",
    "import torch.nn as nn\n",
    "import torch.nn.functional as F\n",
    "from torch.utils.data import Dataset, DataLoader, TensorDataset\n",
    "import pandas as pd\n",
    "from sklearn.model_selection import train_test_split\n",
    "from sklearn.metrics import (\n",
    "    accuracy_score, f1_score, precision_score, recall_score, confusion_matrix,\n",
    "    roc_curve, auc, matthews_corrcoef\n",
    ")"
   ]
  },
  {
   "cell_type": "code",
   "execution_count": 2,
   "metadata": {},
   "outputs": [
    {
     "name": "stdout",
     "output_type": "stream",
     "text": [
      "cuda\n",
      "NVIDIA GeForce RTX 2080 Ti\n"
     ]
    }
   ],
   "source": [
    "# Check if GPU is available\n",
    "device = torch.device('cuda' if torch.cuda.is_available() else 'cpu')\n",
    "print(device)\n",
    "print(torch.cuda.get_device_name(0))"
   ]
  },
  {
   "cell_type": "code",
   "execution_count": 3,
   "metadata": {},
   "outputs": [],
   "source": [
    "NGRAM_SIZE = 4\n",
    "ngramDicts = {}\n",
    "\n",
    "MODEL = 1"
   ]
  },
  {
   "cell_type": "code",
   "execution_count": 4,
   "metadata": {},
   "outputs": [],
   "source": [
    "# Tokenize the input text and returns a list of tokens\n",
    "def get_token_list(text: str) -> list:\n",
    "    # lower case it\n",
    "    text = text.lower()\n",
    "    # tokenize hashtags\n",
    "    text = re.sub(r\"#(\\w+)\", r\"<HASHTAG> \", text)\n",
    "    text = re.sub(r'\\d+(,(\\d+))*(\\.(\\d+))?%?\\s', '<NUMBER> ', text)\n",
    "    # tokenize mentions\n",
    "    text = re.sub(r\"@(\\w+)\", r\"<MENTION> \", text)\n",
    "    # tokenize urls\n",
    "    text = re.sub(r\"http\\S+\", r\"<URL> \", text)\n",
    "    # starting with www\n",
    "    text = re.sub(r\"www\\S+\", r\"<URL> \", text)\n",
    "\n",
    "    special_chars = [' ', '*', '!', '?', '.', ',', ';', ':', '(', ')', '[', ']', '{', '}', '/', '\\\\', '|', '-', '_', '—','=','+', '`', '~', '@', '#', '$', '%', '^', '&', '0', '1', '2', '3', '4', '5', '6', '7', '8','9']\n",
    "    # pad the special characters with spaces\n",
    "    for char in special_chars:\n",
    "        text = text.replace(char, ' ')\n",
    "    # pad < and > with spaces\n",
    "    text = text.replace('<', ' <')\n",
    "    text = text.replace('>', '> ')\n",
    "\n",
    "    return text.split()\n",
    "# slipts the text into sentences and tokenizes them. \n",
    "def sentence_tokenizer(fullText: str, thresh: int) -> list:\n",
    "    # lower case it\n",
    "    fullText = fullText.lower()\n",
    "  \n",
    "    sentenceEnders = ['.', '!', '?']\n",
    "    # split on sentence enders handling cases such as Mr. etc\n",
    "    fullText = fullText.replace('mr.', 'mr')\n",
    "    fullText = fullText.replace('mrs.', 'mrs')\n",
    "    fullText = fullText.replace('dr.', 'dr')\n",
    "    fullText = fullText.replace('st.', 'st')\n",
    "    fullText = fullText.replace('co.', 'co')\n",
    "    fullText = fullText.replace('inc.', 'inc')\n",
    "    fullText = fullText.replace('e.g.', 'eg')\n",
    "    fullText = fullText.replace('i.e.', 'ie')\n",
    "    fullText = fullText.replace('etc.', 'etc')\n",
    "    fullText = fullText.replace('vs.', 'vs')\n",
    "    fullText = fullText.replace('u.s.', 'us')\n",
    "\n",
    "    sentences = re.split(r' *[\\.\\?!][\\'\"\\)\\]]* *', fullText)\n",
    "\n",
    "    sentences = [s.replace('\\n', ' ') for s in sentences]\n",
    "    sentences = [s.strip() for s in sentences]\n",
    "    sentences = [s for s in sentences if s != '']\n",
    "    sentences = [get_token_list(s) for s in sentences]\n",
    "\n",
    "    tokenDict = {}\n",
    "    for sentence in sentences:\n",
    "        for token in sentence:\n",
    "            if token in tokenDict:\n",
    "                tokenDict[token] += 1\n",
    "            else:\n",
    "                tokenDict[token] = 1\n",
    "\n",
    "    for sentence in sentences:\n",
    "        for i in range(len(sentence)):\n",
    "            if tokenDict[sentence[i]] <= thresh:\n",
    "                sentence[i] = '<unk>'\n",
    "\n",
    "    return sentences\n",
    "\n",
    "# replaces all tokens with frequency less than threshold with <unk>\n",
    "def rem_low_freq(tokens: list, threshold: int) -> list:\n",
    "    # get the frequency of each token\n",
    "    freq = {}\n",
    "    for token in tokens:\n",
    "        if token in freq:\n",
    "            freq[token] += 1\n",
    "        else:\n",
    "            freq[token] = 1\n",
    "\n",
    "    # remove tokens with frequency less than threshold\n",
    "    for token in list(freq.keys()):\n",
    "        if freq[token] <= threshold:\n",
    "            del freq[token]\n",
    "\n",
    "    # replace all tokens not in freq with <unk>\n",
    "    for i in range(len(tokens)):\n",
    "        if tokens[i] not in freq:\n",
    "            tokens[i] = '<unk>'\n",
    "\n",
    "    return tokens\n",
    "\n",
    "# constructs an n-gram dictionary from the input token list\n",
    "def construct_ngram(n: int, token_list: list) -> dict:\n",
    "    ngram_dict = {}\n",
    "    for i in range(len(token_list) - n + 1):\n",
    "        ngram_to_check = token_list[i:i + n]\n",
    "        cur_dict = ngram_dict\n",
    "        for j in range(n):\n",
    "            if ngram_to_check[j] not in cur_dict:\n",
    "                if j == n - 1:\n",
    "                    cur_dict[ngram_to_check[j]] = 1\n",
    "                else:\n",
    "                    cur_dict[ngram_to_check[j]] = {}\n",
    "            else:\n",
    "                if j == n - 1:\n",
    "                    cur_dict[ngram_to_check[j]] += 1\n",
    "            cur_dict = cur_dict[ngram_to_check[j]]\n",
    "\n",
    "    return ngram_dict\n",
    "# counts the number of n-grams in the input n-gram dictionary using dfs\n",
    "def dfs_count(ngram_dict: dict) -> int:\n",
    "    count = 0\n",
    "    for key, value in ngram_dict.items():\n",
    "        if isinstance(value, dict):\n",
    "            count += dfs_count(value)\n",
    "        else:\n",
    "            count += 1\n",
    "    return count\n",
    "\n",
    "# gives the count of the input n-gram\n",
    "def ngram_count(ngram_dict: dict, ngram: list) -> int:\n",
    "    cur_dict = ngram_dict[len(ngram)]\n",
    "    if len(ngram) == 1:\n",
    "        if ngram[0] in cur_dict:\n",
    "            return cur_dict[ngram[0]]\n",
    "        else:\n",
    "            return cur_dict['<unk>']\n",
    "    for i in range(len(ngram)):\n",
    "        if ngram[i] in cur_dict:\n",
    "            cur_dict = cur_dict[ngram[i]]\n",
    "        else:\n",
    "            return 0\n",
    "    return cur_dict"
   ]
  },
  {
   "cell_type": "code",
   "execution_count": 5,
   "metadata": {},
   "outputs": [],
   "source": [
    "dfs_countD = {}\n",
    "\n",
    "def kneser_ney_smoothing(ngram_dict: dict, d: float, ngram: list) -> float:\n",
    "    # Replace unknown tokens in ngram with '<unk>'\n",
    "    ngram = ['<unk>' if token not in ngram_dict[1] else token.lower() for token in ngram]\n",
    "\n",
    "    if len(ngram) == 1:\n",
    "        # If unigram, compute probability directly\n",
    "        denom = dfs_countD.get(2, dfs_count(ngram_dict[2]))\n",
    "        count = sum(1 for value in ngram_dict[2].values() if ngram[-1] in value)\n",
    "        return count/denom\n",
    "\n",
    "    deno = ngram_count(ngram_dict, ngram[:-1])\n",
    "    if(deno == 0):\n",
    "        return 0\n",
    "    else:\n",
    "        first = max(ngram_count(ngram_dict, ngram) - d, 0) / deno\n",
    "    \n",
    "    try:\n",
    "        cur_dict = ngram_dict[len(ngram)]\n",
    "        for token in ngram[:-1]:\n",
    "            cur_dict = cur_dict[token]\n",
    "        second_rhs = len(cur_dict)\n",
    "    except KeyError:\n",
    "        second_rhs = 0\n",
    "    \n",
    "    second = d * second_rhs / ngram_count(ngram_dict, ngram[:-1])\n",
    "    \n",
    "    return first + second * kneser_ney_smoothing(ngram_dict, d, ngram[1:])\n"
   ]
  },
  {
   "cell_type": "code",
   "execution_count": 6,
   "metadata": {},
   "outputs": [],
   "source": [
    "# returns witten bell smoothed probability of the input n-gram\n",
    "def witten_bell_smoothing(ngram_dict: dict, ngram: list) -> float:\n",
    "    # Replace unknown tokens in ngram with '<unk>'\n",
    "    ngram = ['<unk>' if token not in ngram_dict[1] else token.lower() for token in ngram]\n",
    "\n",
    "    if len(ngram) == 1:\n",
    "        return ngram_count(ngram_dict, ngram) / len(ngram_dict[1])\n",
    "\n",
    "    try:\n",
    "        cur_dict = ngram_dict[len(ngram)]\n",
    "        for token in ngram[:-1]:\n",
    "            cur_dict = cur_dict[token]\n",
    "        lambda_inv_num = len(cur_dict)\n",
    "    except KeyError:\n",
    "        lambda_inv_num = 0\n",
    "\n",
    "    deno = ngram_count(ngram_dict, ngram[:-1]) + lambda_inv_num\n",
    "    if(deno == 0):\n",
    "        return 0\n",
    "    else:\n",
    "        lambda_val = lambda_inv_num / deno\n",
    "        first = lambda_val * ngram_count(ngram_dict, ngram) / ngram_count(ngram_dict, ngram[:-1])\n",
    "        second = (1 - lambda_val) * witten_bell_smoothing(ngram_dict, ngram[1:])\n",
    "        return first + second\n",
    "    # try:\n",
    "    #     lambda_inv_num /= lambda_inv_num + ngram_count(ngram_dict, ngram[:-1])\n",
    "    # except ZeroDivisionError:\n",
    "    #     return 0\n",
    "\n",
    "    # lambd = 1 - lambda_inv_num\n",
    "\n",
    "    # first_term = lambd * ngram_count(ngram_dict, ngram) / ngram_count(ngram_dict, ngram[:-1])\n",
    "    # second_term = lambda_inv_num * witten_bell_smoothing(ngram_dict, ngram[1:])\n",
    "\n",
    "    # return first_term + second_term\n"
   ]
  },
  {
   "cell_type": "code",
   "execution_count": 7,
   "metadata": {},
   "outputs": [],
   "source": [
    "# calculates the likelihood of the input sentence\n",
    "def sentence_likelihood(ngram_dict: dict, sentence: list, smoothing: str, kneserd=0.75) -> float:\n",
    "    tokens = sentence\n",
    "    if smoothing == 'w' or smoothing == 'wb':\n",
    "        likelihood = 0\n",
    "        for i in range(len(tokens) - NGRAM_SIZE + 1):\n",
    "            likelihood += np.log(max(witten_bell_smoothing(ngram_dict, tokens[i:i + NGRAM_SIZE]), 1e-15))\n",
    "        return likelihood\n",
    "    elif smoothing == 'k' or smoothing == 'kn':\n",
    "        likelihood = 0\n",
    "        for i in range(len(tokens) - NGRAM_SIZE + 1):\n",
    "            likelihood += np.log(max(kneser_ney_smoothing(ngram_dict, kneserd, tokens[i:i + NGRAM_SIZE]), 1e-15))\n",
    "        return likelihood\n",
    "\n",
    "# calculates the perplexity of the input sentence\n",
    "def perplexity(ngram_dict: dict, sentence: list, smoothing: str, kneserd=0.75) -> float:\n",
    "    prob = sentence_likelihood(ngram_dict, sentence, smoothing, kneserd)\n",
    "    prob = np.exp(prob)\n",
    "    prob = max(prob, 1e-15)\n",
    "    return pow(prob, -1 / len(sentence))"
   ]
  },
  {
   "cell_type": "code",
   "execution_count": 8,
   "metadata": {},
   "outputs": [],
   "source": [
    "def get_plot(perp_list, file_name=None):\n",
    "    plt.figure(figsize=(10, 6))\n",
    "    plt.hist(perp_list, bins=50, color='skyblue', edgecolor='black')\n",
    "    plt.title('Distribution of Sentence Perplexities')\n",
    "    plt.xlabel('Perplexity')\n",
    "    plt.ylabel('Frequency')\n",
    "    plt.grid(axis='y', alpha=0.75)\n",
    "    plt.savefig(file_name)\n",
    "    plt.show()"
   ]
  },
  {
   "cell_type": "code",
   "execution_count": 10,
   "metadata": {},
   "outputs": [],
   "source": [
    "def get_perp_plots(text, perp_text, train):\n",
    "    sentences = copy.deepcopy(text)\n",
    "    sentences = sentence_tokenizer(sentences, 1)\n",
    "    sentences = [sentence for sentence in sentences if len(sentence) >= NGRAM_SIZE]\n",
    "    Lines = sentences.copy()\n",
    "\n",
    "    sentences2 = copy.deepcopy(perp_text)\n",
    "    sentences2 = sentence_tokenizer(sentences2, 1)\n",
    "    sentences2 = [sentence for sentence in sentences2 if len(sentence) >= NGRAM_SIZE]\n",
    "    Lines2 = sentences2.copy()\n",
    "\n",
    "    if(train == True):\n",
    "        combined_text = \"\"\n",
    "        for line in Lines:\n",
    "            combined_text += \" \".join(line) + \" \"\n",
    "\n",
    "        tokens = rem_low_freq(get_token_list(combined_text), 1)\n",
    "\n",
    "        for n in range(NGRAM_SIZE):\n",
    "            ngramDicts[n + 1] = construct_ngram(n + 1, tokens)   \n",
    "\n",
    "    wb_perplexities = []\n",
    "    toWrite = []\n",
    "    with alive_bar(len(Lines2)) as bar:\n",
    "        for sentence in Lines2:\n",
    "            wb_perplexities.append(perplexity(ngramDicts, sentence, 'wb'))\n",
    "            toWrite.append(\" \".join(sentence) + \"\\t\" + str(wb_perplexities[-1]))\n",
    "            bar()\n",
    "    # Plotting\n",
    "    get_plot(wb_perplexities, 'wb_plot_input.png')\n",
    "\n",
    "    wb_avg = sum(wb_perplexities) / len(wb_perplexities)\n",
    "    wb_median = np.median(wb_perplexities)\n",
    "    print(f'Witten-Bell average perplexity: {wb_avg}')\n",
    "    print(f'Witten-Bell median perplexity: {wb_median}')\n",
    "    # write average perplexity at the top\n",
    "    # outputfile = open(f\"LM{MODEL + 1}_train-perplexity.txt\", \"w\", encoding=\"utf-8\")\n",
    "    # outputfile.write(f'{wb_avg}\\n')\n",
    "    # outputfile.write(\"\\n\".join(toWrite))\n",
    "    # outputfile.close()\n",
    "\n",
    "    # print(\"strated\")\n",
    "\n",
    "   #### Kneseer Ney #####\n",
    "    # kn_perplexities = []\n",
    "    # toWrite = []\n",
    "    # with alive_bar(len(Lines2)) as bar:\n",
    "    #     for sentence in Lines2:\n",
    "    #         kn_perplexities.append(perplexity(ngramDicts, sentence, 'kn'))\n",
    "    #         toWrite.append(\" \".join(sentence) + \"\\t\" + str(kn_perplexities[-1]))\n",
    "    #         bar()\n",
    "\n",
    "    # kn_avg = sum(kn_perplexities) / len(kn_perplexities)\n",
    "    # kn_median = np.median(kn_perplexities)\n",
    "    # outputfile = open(f\"LM{MODEL}_train-perplexity.txt\", \"w\", encoding=\"utf-8\")\n",
    "    # # write average perplexity at the top\n",
    "    # outputfile.write(f'{kn_avg}\\n')\n",
    "    # outputfile.write(\"\\n\".join(toWrite))\n",
    "    # outputfile.close()\n",
    "    # print(f'Kneser-Ney average perplexity: {kn_avg}')\n",
    "    # print(f'Kneser-Ney median perplexity: {kn_median}')\n",
    "    # # plotting\n",
    "    # get_plot(kn_perplexities, 'kn_plot_input.png')\n"
   ]
  },
  {
   "cell_type": "code",
   "execution_count": 11,
   "metadata": {},
   "outputs": [],
   "source": [
    "def get_sentences(csv_file):\n",
    "    train_sentences = []\n",
    "    test_sentences = []\n",
    "    train_sentences2 = []\n",
    "    \n",
    "    chunksize = 10000\n",
    "    first_20k_complete = False\n",
    "    second_20k_counter = 0\n",
    "    \n",
    "    for chunk in pd.read_csv(csv_file, chunksize=chunksize):\n",
    "        for _, row in chunk.iterrows():\n",
    "            # Exclude null rows\n",
    "            if pd.notnull(row['input']) and pd.notnull(row['output']):\n",
    "                input_text, output_text = row['input'], row['output']\n",
    "                \n",
    "                # Check if still collecting first 20k 'output' sentences\n",
    "                if not first_20k_complete:\n",
    "                    if len(input_text) < 100 and len(test_sentences) < 20000:\n",
    "                        test_sentences.append(input_text)\n",
    "                    if len(output_text) < 100 and len(train_sentences) < 20000:\n",
    "                        train_sentences.append(output_text)\n",
    "\n",
    "                    if len(train_sentences) == 20000 and len(test_sentences) == 20000:\n",
    "                        first_20k_complete = True\n",
    "                # Start collecting second set of 20k 'output' sentences\n",
    "                elif second_20k_counter < 20000 and len(output_text) < 100:\n",
    "                    train_sentences2.append(output_text)\n",
    "                    second_20k_counter += 1\n",
    "            \n",
    "            # Break if both sets of train sentences are collected\n",
    "            if first_20k_complete and second_20k_counter == 20000:\n",
    "                break\n",
    "    \n",
    "    return train_sentences, test_sentences, train_sentences2"
   ]
  },
  {
   "cell_type": "code",
   "execution_count": 12,
   "metadata": {},
   "outputs": [],
   "source": [
    "sentences, test_sentences, output_sentences = get_sentences('C4_200M_1M.csv')\n",
    "\n",
    "\n",
    "fullText = \" \".join(sentences)\n",
    "testText = \" \".join(test_sentences)\n",
    "perpText = \" \".join(output_sentences)"
   ]
  },
  {
   "cell_type": "code",
   "execution_count": 13,
   "metadata": {},
   "outputs": [
    {
     "name": "stdout",
     "output_type": "stream",
     "text": [
      "20000\n",
      "20000\n",
      "20000\n"
     ]
    }
   ],
   "source": [
    "print(len(sentences))\n",
    "print(len(test_sentences))\n",
    "print(len(output_sentences))"
   ]
  },
  {
   "cell_type": "code",
   "execution_count": 14,
   "metadata": {},
   "outputs": [
    {
     "name": "stdout",
     "output_type": "stream",
     "text": [
      "|████████████████████████████████████████| 20196/20196 [100%] in 0.8s (24907.91/s) \n"
     ]
    },
    {
     "data": {
      "image/png": "[encoded data removed]",
      "text/plain": [
       "<Figure size 1000x600 with 1 Axes>"
      ]
     },
     "metadata": {},
     "output_type": "display_data"
    },
    {
     "name": "stdout",
     "output_type": "stream",
     "text": [
      "Witten-Bell average perplexity: 288.0239721248034\n",
      "Witten-Bell median perplexity: 31.6227766016838\n"
     ]
    }
   ],
   "source": [
    "get_perp_plots(fullText, perpText, True)"
   ]
  },
  {
   "cell_type": "code",
   "execution_count": 15,
   "metadata": {},
   "outputs": [
    {
     "name": "stdout",
     "output_type": "stream",
     "text": [
      "|████████████████████████████████████████| 19115/19115 [100%] in 1.2s (15570.20/s) \n"
     ]
    },
    {
     "data": {
      "image/png": "[encoded data removed]",
      "text/plain": [
       "<Figure size 1000x600 with 1 Axes>"
      ]
     },
     "metadata": {},
     "output_type": "display_data"
    },
    {
     "name": "stdout",
     "output_type": "stream",
     "text": [
      "Witten-Bell average perplexity: 191.95386075441922\n",
      "Witten-Bell median perplexity: 17.782794100389225\n"
     ]
    }
   ],
   "source": [
    "get_perp_plots(testText, testText, False)"
   ]
  },
  {
   "cell_type": "markdown",
   "metadata": {},
   "source": [
    "## Binary Classification Task"
   ]
  },
  {
   "cell_type": "code",
   "execution_count": 16,
   "metadata": {},
   "outputs": [],
   "source": [
    "# Take a mix of output and test sentences for binary classification task\n",
    "## Take 10k output sentences and 10k test sentences randomly\n",
    "output_sentences_bc = random.sample(output_sentences, 10000)\n",
    "test_sentences_bc = random.sample(test_sentences, 10000)\n",
    "\n",
    "# Create a binary classification dataset\n",
    "binary_classification_dataset = output_sentences_bc + test_sentences_bc\n",
    "binary_classification_labels = [1] * 10000 + [0] * 10000\n"
   ]
  },
  {
   "cell_type": "code",
   "execution_count": 17,
   "metadata": {},
   "outputs": [],
   "source": [
    "class PerplexityDataset(Dataset):\n",
    "    def __init__(self, sentences, labels, perplexity_function):\n",
    "        self.sentences = sentences\n",
    "        self.labels = labels\n",
    "        self.perplexity_function = perplexity_function\n",
    "\n",
    "    def __len__(self):\n",
    "        return len(self.sentences)\n",
    "\n",
    "    def __getitem__(self, idx):\n",
    "        sentence = self.sentences[idx]\n",
    "        label = self.labels[idx]\n",
    "        perplexity_score = self.perplexity_function(sentence)\n",
    "        return torch.tensor([perplexity_score], dtype=torch.float32), torch.tensor(label, dtype=torch.long)\n"
   ]
  },
  {
   "cell_type": "code",
   "execution_count": 19,
   "metadata": {},
   "outputs": [],
   "source": [
    "# Create train and test loaders for the binary classification task\n",
    "train_sentences, test_sentences, train_labels, test_labels = train_test_split(binary_classification_dataset, binary_classification_labels, test_size=0.2, random_state=42)\n",
    "\n",
    "train_dataset = PerplexityDataset(train_sentences, train_labels, lambda x: perplexity(ngramDicts, x, 'wb'))\n",
    "test_dataset = PerplexityDataset(test_sentences, test_labels, lambda x: perplexity(ngramDicts, x, 'wb'))\n",
    "\n",
    "train_loader = DataLoader(train_dataset, batch_size=64, shuffle=True)\n",
    "test_loader = DataLoader(test_dataset, batch_size=64, shuffle=False)"
   ]
  },
  {
   "cell_type": "code",
   "execution_count": 20,
   "metadata": {},
   "outputs": [],
   "source": [
    "class PerplexityClassifier(nn.Module):\n",
    "    def __init__(self):\n",
    "        super(PerplexityClassifier, self).__init__()\n",
    "        self.classifier = nn.Linear(1, 2)\n",
    "\n",
    "    def forward(self, x):\n",
    "        return self.classifier(x)"
   ]
  },
  {
   "cell_type": "code",
   "execution_count": 21,
   "metadata": {},
   "outputs": [
    {
     "name": "stderr",
     "output_type": "stream",
     "text": [
      "/home2/autotune_vits/miniconda3/envs/nlp_env/lib/python3.12/site-packages/tqdm/auto.py:21: TqdmWarning: IProgress not found. Please update jupyter and ipywidgets. See https://ipywidgets.readthedocs.io/en/stable/user_install.html\n",
      "  from .autonotebook import tqdm as notebook_tqdm\n"
     ]
    }
   ],
   "source": [
    "# Hyperparameters\n",
    "learning_rate = 0.01\n",
    "num_epochs = 10\n",
    "\n",
    "# Initialize the model\n",
    "classifier = PerplexityClassifier().to(device)\n",
    "\n",
    "# Define the loss function and optimizer\n",
    "criterion = nn.CrossEntropyLoss()\n",
    "optimizer = torch.optim.Adam(classifier.parameters(), lr=learning_rate)"
   ]
  },
  {
   "cell_type": "code",
   "execution_count": 22,
   "metadata": {},
   "outputs": [],
   "source": [
    "def train_classifier(model, train_loader, criterion, optimizer, num_epochs=5):\n",
    "    model.to(device)\n",
    "    for epoch in range(num_epochs):\n",
    "        model.train()\n",
    "        total_loss = 0\n",
    "        for inputs, labels in train_loader:\n",
    "            inputs, labels = inputs.to(device), labels.to(device)\n",
    "            optimizer.zero_grad()\n",
    "            outputs = model(inputs)\n",
    "            loss = criterion(outputs, labels)\n",
    "            loss.backward()\n",
    "            optimizer.step()\n",
    "            total_loss += loss.item()\n",
    "\n",
    "        avg_loss = total_loss / len(train_loader)\n",
    "        print(f\"Epoch {epoch + 1}/{num_epochs}, Loss: {avg_loss:.4f}\")"
   ]
  },
  {
   "cell_type": "code",
   "execution_count": 23,
   "metadata": {},
   "outputs": [
    {
     "name": "stdout",
     "output_type": "stream",
     "text": [
      "Epoch 1/10, Loss: 0.7913\n",
      "Epoch 2/10, Loss: 0.6965\n",
      "Epoch 3/10, Loss: 0.6946\n",
      "Epoch 4/10, Loss: 0.6941\n",
      "Epoch 5/10, Loss: 0.6941\n",
      "Epoch 6/10, Loss: 0.6939\n",
      "Epoch 7/10, Loss: 0.6937\n",
      "Epoch 8/10, Loss: 0.6942\n",
      "Epoch 9/10, Loss: 0.6940\n",
      "Epoch 10/10, Loss: 0.6937\n"
     ]
    }
   ],
   "source": [
    "# Call the training function\n",
    "train_classifier(classifier, train_loader, criterion, optimizer, num_epochs)"
   ]
  },
  {
   "cell_type": "code",
   "execution_count": 24,
   "metadata": {},
   "outputs": [],
   "source": [
    "def test(model, test_loader, criterion):\n",
    "    model.to(device)\n",
    "    model.eval()\n",
    "    all_labels = []\n",
    "    all_preds = []\n",
    "    all_probs = []\n",
    "    total_loss = 0\n",
    "\n",
    "    with torch.no_grad():\n",
    "        for inputs, labels in test_loader:\n",
    "            inputs, labels = inputs.to(device), labels.to(device)\n",
    "            outputs = model(inputs)\n",
    "            loss = criterion(outputs, labels)\n",
    "            total_loss += loss.item()\n",
    "            _, predicted = torch.max(outputs, 1)\n",
    "            all_labels.extend(labels.cpu().numpy())\n",
    "            all_preds.extend(predicted.cpu().numpy())\n",
    "            all_probs.extend(outputs[:, 1].cpu().numpy())\n",
    "\n",
    "    # Compute Metrics\n",
    "    accuracy = accuracy_score(all_labels, all_preds)\n",
    "    f1 = f1_score(all_labels, all_preds, average='binary')\n",
    "    precision = precision_score(all_labels, all_preds, average='binary')\n",
    "    recall = recall_score(all_labels, all_preds, average='binary')\n",
    "    mcc = matthews_corrcoef(all_labels, all_preds)\n",
    "    conf_matrix = confusion_matrix(all_labels, all_preds)\n",
    "\n",
    "    # ROC Curve and AUC\n",
    "    fpr, tpr, _ = roc_curve(all_labels, all_probs)\n",
    "    roc_auc = auc(fpr, tpr)\n",
    "\n",
    "    print(f\"Validation Loss: {total_loss / len(test_loader):.4f}\")\n",
    "    print(f\"Accuracy: {accuracy * 100:.2f}%\")\n",
    "    print(f\"F1 Score: {f1:.4f}\")\n",
    "    print(f\"Precision: {precision:.4f}\")\n",
    "    print(f\"Recall: {recall:.4f}\")\n",
    "    print(f\"Matthews Correlation Coefficient: {mcc:.4f}\")\n",
    "    print(f\"Confusion Matrix:\\n{conf_matrix}\")\n",
    "    print(f\"AUC: {roc_auc:.4f}\")\n",
    "\n",
    "    # Plot ROC Curve\n",
    "    plt.figure()\n",
    "    plt.plot(fpr, tpr, color='blue', lw=2, label=f'ROC curve (AUC = {roc_auc:.4f})')\n",
    "    plt.plot([0, 1], [0, 1], color='red', lw=2, linestyle='--')\n",
    "    plt.xlabel('False Positive Rate')\n",
    "    plt.ylabel('True Positive Rate')\n",
    "    plt.title('Receiver Operating Characteristic')\n",
    "    plt.legend(loc=\"lower right\")\n",
    "    plt.show()"
   ]
  },
  {
   "cell_type": "code",
   "execution_count": 25,
   "metadata": {},
   "outputs": [
    {
     "name": "stdout",
     "output_type": "stream",
     "text": [
      "Validation Loss: 0.6933\n",
      "Accuracy: 49.53%\n",
      "F1 Score: 0.0000\n",
      "Precision: 0.0000\n",
      "Recall: 0.0000\n",
      "Matthews Correlation Coefficient: 0.0000\n",
      "Confusion Matrix:\n",
      "[[1981    0]\n",
      " [2019    0]]\n",
      "AUC: 0.4928\n"
     ]
    },
    {
     "name": "stderr",
     "output_type": "stream",
     "text": [
      "/home2/autotune_vits/miniconda3/envs/nlp_env/lib/python3.12/site-packages/sklearn/metrics/_classification.py:1509: UndefinedMetricWarning: Precision is ill-defined and being set to 0.0 due to no predicted samples. Use `zero_division` parameter to control this behavior.\n",
      "  _warn_prf(average, modifier, f\"{metric.capitalize()} is\", len(result))\n"
     ]
    },
    {
     "data": {
      "image/png": "[encoded data removed]",
      "text/plain": [
       "<Figure size 640x480 with 1 Axes>"
      ]
     },
     "metadata": {},
     "output_type": "display_data"
    }
   ],
   "source": [
    "# Call the test function\n",
    "test(classifier, test_loader, criterion)"
   ]
  },
  {
   "cell_type": "code",
   "execution_count": null,
   "metadata": {},
   "outputs": [],
   "source": []
  }
 ],
 "metadata": {
  "kernelspec": {
   "display_name": "Python 3",
   "language": "python",
   "name": "python3"
  },
  "language_info": {
   "codemirror_mode": {
    "name": "ipython",
    "version": 3
   },
   "file_extension": ".py",
   "mimetype": "text/x-python",
   "name": "python",
   "nbconvert_exporter": "python",
   "pygments_lexer": "ipython3",
   "version": "3.12.2"
  }
 },
 "nbformat": 4,
 "nbformat_minor": 2
}
